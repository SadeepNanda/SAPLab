{
  "nbformat": 4,
  "nbformat_minor": 0,
  "metadata": {
    "colab": {
      "name": "SAP-burnout-modelling1.ipynb",
      "provenance": [],
      "collapsed_sections": [],
      "toc_visible": true,
      "include_colab_link": true
    },
    "kernelspec": {
      "name": "python3",
      "display_name": "Python 3"
    },
    "language_info": {
      "name": "python"
    }
  },
  "cells": [
    {
      "cell_type": "markdown",
      "metadata": {
        "id": "view-in-github",
        "colab_type": "text"
      },
      "source": [
        "<a href=\"https://colab.research.google.com/github/pao0318/SAPLab/blob/main/SAP_burnout_modelling1.ipynb\" target=\"_parent\"><img src=\"https://colab.research.google.com/assets/colab-badge.svg\" alt=\"Open In Colab\"/></a>"
      ]
    },
    {
      "cell_type": "markdown",
      "metadata": {
        "id": "PxsfujDaml1J"
      },
      "source": [
        "## Notebook Description \n",
        "This notebook involves the analysis of HackerEarth employee burnout dataset to create a model for predicting the burnout rate of employees in work-from-home condition."
      ]
    },
    {
      "cell_type": "code",
      "metadata": {
        "id": "CeW4JP6YttcK",
        "colab": {
          "base_uri": "https://localhost:8080/"
        },
        "outputId": "ed574876-e6a1-4d59-b953-ca1a12cd1faa"
      },
      "source": [
        "from google.colab import drive\n",
        "drive.mount('/content/drive')"
      ],
      "execution_count": null,
      "outputs": [
        {
          "output_type": "stream",
          "text": [
            "Mounted at /content/drive\n"
          ],
          "name": "stdout"
        }
      ]
    },
    {
      "cell_type": "code",
      "metadata": {
        "id": "DzaX_XNEWcrO"
      },
      "source": [
        "# Importing essential libraries \n",
        "import pandas as pd \n",
        "import numpy as np \n",
        "import matplotlib.pyplot as plt\n"
      ],
      "execution_count": null,
      "outputs": []
    },
    {
      "cell_type": "code",
      "metadata": {
        "colab": {
          "base_uri": "https://localhost:8080/"
        },
        "id": "bQ_t54GeeA1G",
        "outputId": "8c552321-3d49-4a39-e4fb-c6f364c879f5"
      },
      "source": [
        "# Importing datasets from drive \n",
        "df_train = pd.read_csv('/content/drive/MyDrive/saplab/train.csv')\n",
        "df_train.head()\n",
        "print(df_train.shape)"
      ],
      "execution_count": null,
      "outputs": [
        {
          "output_type": "stream",
          "text": [
            "(22750, 9)\n"
          ],
          "name": "stdout"
        }
      ]
    },
    {
      "cell_type": "code",
      "metadata": {
        "colab": {
          "base_uri": "https://localhost:8080/",
          "height": 195
        },
        "id": "89tOuk3oejw3",
        "outputId": "0e7860dd-b02f-485b-ae73-3891b512e934"
      },
      "source": [
        "df_train.head()"
      ],
      "execution_count": null,
      "outputs": [
        {
          "output_type": "execute_result",
          "data": {
            "text/html": [
              "<div>\n",
              "<style scoped>\n",
              "    .dataframe tbody tr th:only-of-type {\n",
              "        vertical-align: middle;\n",
              "    }\n",
              "\n",
              "    .dataframe tbody tr th {\n",
              "        vertical-align: top;\n",
              "    }\n",
              "\n",
              "    .dataframe thead th {\n",
              "        text-align: right;\n",
              "    }\n",
              "</style>\n",
              "<table border=\"1\" class=\"dataframe\">\n",
              "  <thead>\n",
              "    <tr style=\"text-align: right;\">\n",
              "      <th></th>\n",
              "      <th>Employee ID</th>\n",
              "      <th>Date of Joining</th>\n",
              "      <th>Gender</th>\n",
              "      <th>Company Type</th>\n",
              "      <th>WFH Setup Available</th>\n",
              "      <th>Designation</th>\n",
              "      <th>Resource Allocation</th>\n",
              "      <th>Mental Fatigue Score</th>\n",
              "      <th>Burn Rate</th>\n",
              "    </tr>\n",
              "  </thead>\n",
              "  <tbody>\n",
              "    <tr>\n",
              "      <th>0</th>\n",
              "      <td>fffe32003000360033003200</td>\n",
              "      <td>2008-09-30</td>\n",
              "      <td>Female</td>\n",
              "      <td>Service</td>\n",
              "      <td>No</td>\n",
              "      <td>2.0</td>\n",
              "      <td>3.0</td>\n",
              "      <td>3.8</td>\n",
              "      <td>0.16</td>\n",
              "    </tr>\n",
              "    <tr>\n",
              "      <th>1</th>\n",
              "      <td>fffe3700360033003500</td>\n",
              "      <td>2008-11-30</td>\n",
              "      <td>Male</td>\n",
              "      <td>Service</td>\n",
              "      <td>Yes</td>\n",
              "      <td>1.0</td>\n",
              "      <td>2.0</td>\n",
              "      <td>5.0</td>\n",
              "      <td>0.36</td>\n",
              "    </tr>\n",
              "    <tr>\n",
              "      <th>2</th>\n",
              "      <td>fffe31003300320037003900</td>\n",
              "      <td>2008-03-10</td>\n",
              "      <td>Female</td>\n",
              "      <td>Product</td>\n",
              "      <td>Yes</td>\n",
              "      <td>2.0</td>\n",
              "      <td>NaN</td>\n",
              "      <td>5.8</td>\n",
              "      <td>0.49</td>\n",
              "    </tr>\n",
              "    <tr>\n",
              "      <th>3</th>\n",
              "      <td>fffe32003400380032003900</td>\n",
              "      <td>2008-11-03</td>\n",
              "      <td>Male</td>\n",
              "      <td>Service</td>\n",
              "      <td>Yes</td>\n",
              "      <td>1.0</td>\n",
              "      <td>1.0</td>\n",
              "      <td>2.6</td>\n",
              "      <td>0.20</td>\n",
              "    </tr>\n",
              "    <tr>\n",
              "      <th>4</th>\n",
              "      <td>fffe31003900340031003600</td>\n",
              "      <td>2008-07-24</td>\n",
              "      <td>Female</td>\n",
              "      <td>Service</td>\n",
              "      <td>No</td>\n",
              "      <td>3.0</td>\n",
              "      <td>7.0</td>\n",
              "      <td>6.9</td>\n",
              "      <td>0.52</td>\n",
              "    </tr>\n",
              "  </tbody>\n",
              "</table>\n",
              "</div>"
            ],
            "text/plain": [
              "                Employee ID Date of Joining  ... Mental Fatigue Score Burn Rate\n",
              "0  fffe32003000360033003200      2008-09-30  ...                  3.8      0.16\n",
              "1      fffe3700360033003500      2008-11-30  ...                  5.0      0.36\n",
              "2  fffe31003300320037003900      2008-03-10  ...                  5.8      0.49\n",
              "3  fffe32003400380032003900      2008-11-03  ...                  2.6      0.20\n",
              "4  fffe31003900340031003600      2008-07-24  ...                  6.9      0.52\n",
              "\n",
              "[5 rows x 9 columns]"
            ]
          },
          "metadata": {
            "tags": []
          },
          "execution_count": 4
        }
      ]
    },
    {
      "cell_type": "markdown",
      "metadata": {
        "id": "Yn_IMhCWem62"
      },
      "source": [
        "## Dataset Description\n",
        "The following images shows the column description of the dataset.\n"
      ]
    },
    {
      "cell_type": "code",
      "metadata": {
        "colab": {
          "base_uri": "https://localhost:8080/",
          "height": 466
        },
        "id": "VId7joPditYa",
        "outputId": "27a30d0e-a453-4801-dc0c-9ff0e0925634"
      },
      "source": [
        "# Showing column description \n",
        "from IPython.display import Image\n",
        "Image(filename='/content/drive/MyDrive/saplab/columns_description.png')"
      ],
      "execution_count": null,
      "outputs": [
        {
          "output_type": "execute_result",
          "data": {
            "image/png": "[encoded data removed]",
            "text/plain": [
              "<IPython.core.display.Image object>"
            ]
          },
          "metadata": {
            "tags": []
          },
          "execution_count": 5
        }
      ]
    },
    {
      "cell_type": "markdown",
      "metadata": {
        "id": "BPiO1nHgjFkU"
      },
      "source": [
        "https://www.kaggle.com/redwankarimsony/hackerearth-employee-burnout-challenge \n",
        "\n",
        "Fields which are going to be automatically filled for a user:\n",
        "  1. Employee ID\n",
        "\n",
        "Fields which are going to be entered by the user:\n",
        "  1. Date of Joining \n",
        "  2. Gender\n",
        "  3. Company Type\n",
        "  4. WFH setup available\n",
        "  5. Resource Allocation\n",
        "  6. Designation\n",
        "  7. Mental Fatigue Score(may be evaluated using other means out of the scope of modelling)"
      ]
    },
    {
      "cell_type": "code",
      "metadata": {
        "colab": {
          "base_uri": "https://localhost:8080/"
        },
        "id": "-66f_y3fn8_V",
        "outputId": "7014db05-486f-471d-859a-9411e8eb92b8"
      },
      "source": [
        "# Seeing dataset details \n",
        "df_train.info()"
      ],
      "execution_count": null,
      "outputs": [
        {
          "output_type": "stream",
          "text": [
            "<class 'pandas.core.frame.DataFrame'>\n",
            "RangeIndex: 22750 entries, 0 to 22749\n",
            "Data columns (total 9 columns):\n",
            " #   Column                Non-Null Count  Dtype  \n",
            "---  ------                --------------  -----  \n",
            " 0   Employee ID           22750 non-null  object \n",
            " 1   Date of Joining       22750 non-null  object \n",
            " 2   Gender                22750 non-null  object \n",
            " 3   Company Type          22750 non-null  object \n",
            " 4   WFH Setup Available   22750 non-null  object \n",
            " 5   Designation           22750 non-null  float64\n",
            " 6   Resource Allocation   21369 non-null  float64\n",
            " 7   Mental Fatigue Score  20633 non-null  float64\n",
            " 8   Burn Rate             21626 non-null  float64\n",
            "dtypes: float64(4), object(5)\n",
            "memory usage: 1.6+ MB\n"
          ],
          "name": "stdout"
        }
      ]
    },
    {
      "cell_type": "code",
      "metadata": {
        "id": "EkS0dDdtov2S",
        "colab": {
          "base_uri": "https://localhost:8080/"
        },
        "outputId": "00d8c1e9-375f-4bbd-d82e-100ec1fc03d4"
      },
      "source": [
        "# Seeing null values\n",
        "df_train.isna().sum()"
      ],
      "execution_count": null,
      "outputs": [
        {
          "output_type": "execute_result",
          "data": {
            "text/plain": [
              "Employee ID                0\n",
              "Date of Joining            0\n",
              "Gender                     0\n",
              "Company Type               0\n",
              "WFH Setup Available        0\n",
              "Designation                0\n",
              "Resource Allocation     1381\n",
              "Mental Fatigue Score    2117\n",
              "Burn Rate               1124\n",
              "dtype: int64"
            ]
          },
          "metadata": {
            "tags": []
          },
          "execution_count": 7
        }
      ]
    },
    {
      "cell_type": "markdown",
      "metadata": {
        "id": "PHKcKLnOpqQz"
      },
      "source": [
        "There are null values in the fields 'Resource Allocation', 'Mental Fatigue Score' and 'Burn Rate'.\n",
        "\n",
        "After EDA, the filling of null values will be decided."
      ]
    },
    {
      "cell_type": "code",
      "metadata": {
        "colab": {
          "base_uri": "https://localhost:8080/",
          "height": 284
        },
        "id": "N7Q0JcOap7-C",
        "outputId": "95ec5ad0-8b39-4b3a-da32-a1b1d6b6715c"
      },
      "source": [
        "# Seeing statistical details \n",
        "df_train.describe()"
      ],
      "execution_count": null,
      "outputs": [
        {
          "output_type": "execute_result",
          "data": {
            "text/html": [
              "<div>\n",
              "<style scoped>\n",
              "    .dataframe tbody tr th:only-of-type {\n",
              "        vertical-align: middle;\n",
              "    }\n",
              "\n",
              "    .dataframe tbody tr th {\n",
              "        vertical-align: top;\n",
              "    }\n",
              "\n",
              "    .dataframe thead th {\n",
              "        text-align: right;\n",
              "    }\n",
              "</style>\n",
              "<table border=\"1\" class=\"dataframe\">\n",
              "  <thead>\n",
              "    <tr style=\"text-align: right;\">\n",
              "      <th></th>\n",
              "      <th>Designation</th>\n",
              "      <th>Resource Allocation</th>\n",
              "      <th>Mental Fatigue Score</th>\n",
              "      <th>Burn Rate</th>\n",
              "    </tr>\n",
              "  </thead>\n",
              "  <tbody>\n",
              "    <tr>\n",
              "      <th>count</th>\n",
              "      <td>22750.000000</td>\n",
              "      <td>21369.000000</td>\n",
              "      <td>20633.000000</td>\n",
              "      <td>21626.000000</td>\n",
              "    </tr>\n",
              "    <tr>\n",
              "      <th>mean</th>\n",
              "      <td>2.178725</td>\n",
              "      <td>4.481398</td>\n",
              "      <td>5.728188</td>\n",
              "      <td>0.452005</td>\n",
              "    </tr>\n",
              "    <tr>\n",
              "      <th>std</th>\n",
              "      <td>1.135145</td>\n",
              "      <td>2.047211</td>\n",
              "      <td>1.920839</td>\n",
              "      <td>0.198226</td>\n",
              "    </tr>\n",
              "    <tr>\n",
              "      <th>min</th>\n",
              "      <td>0.000000</td>\n",
              "      <td>1.000000</td>\n",
              "      <td>0.000000</td>\n",
              "      <td>0.000000</td>\n",
              "    </tr>\n",
              "    <tr>\n",
              "      <th>25%</th>\n",
              "      <td>1.000000</td>\n",
              "      <td>3.000000</td>\n",
              "      <td>4.600000</td>\n",
              "      <td>0.310000</td>\n",
              "    </tr>\n",
              "    <tr>\n",
              "      <th>50%</th>\n",
              "      <td>2.000000</td>\n",
              "      <td>4.000000</td>\n",
              "      <td>5.900000</td>\n",
              "      <td>0.450000</td>\n",
              "    </tr>\n",
              "    <tr>\n",
              "      <th>75%</th>\n",
              "      <td>3.000000</td>\n",
              "      <td>6.000000</td>\n",
              "      <td>7.100000</td>\n",
              "      <td>0.590000</td>\n",
              "    </tr>\n",
              "    <tr>\n",
              "      <th>max</th>\n",
              "      <td>5.000000</td>\n",
              "      <td>10.000000</td>\n",
              "      <td>10.000000</td>\n",
              "      <td>1.000000</td>\n",
              "    </tr>\n",
              "  </tbody>\n",
              "</table>\n",
              "</div>"
            ],
            "text/plain": [
              "        Designation  Resource Allocation  Mental Fatigue Score     Burn Rate\n",
              "count  22750.000000         21369.000000          20633.000000  21626.000000\n",
              "mean       2.178725             4.481398              5.728188      0.452005\n",
              "std        1.135145             2.047211              1.920839      0.198226\n",
              "min        0.000000             1.000000              0.000000      0.000000\n",
              "25%        1.000000             3.000000              4.600000      0.310000\n",
              "50%        2.000000             4.000000              5.900000      0.450000\n",
              "75%        3.000000             6.000000              7.100000      0.590000\n",
              "max        5.000000            10.000000             10.000000      1.000000"
            ]
          },
          "metadata": {
            "tags": []
          },
          "execution_count": 8
        }
      ]
    },
    {
      "cell_type": "markdown",
      "metadata": {
        "id": "2_M9kT0FqZ6x"
      },
      "source": [
        "Designation and resource allocation(provided in hours) are categorical features, hence they need to be handles as such, otherwise only mental fatigue score the target, burn rate are only numeric fields."
      ]
    },
    {
      "cell_type": "markdown",
      "metadata": {
        "id": "dfG1IDjIsJ3x"
      },
      "source": [
        "## EDA\n"
      ]
    },
    {
      "cell_type": "code",
      "metadata": {
        "colab": {
          "base_uri": "https://localhost:8080/"
        },
        "id": "2wHmgT6OtEbB",
        "outputId": "ee9ec405-8107-4ee1-cc0b-6805aab1408d"
      },
      "source": [
        "# Plotting Years in company with burnout rate\n",
        "df_train['Date of Joining']"
      ],
      "execution_count": null,
      "outputs": [
        {
          "output_type": "execute_result",
          "data": {
            "text/plain": [
              "0        2008-09-30\n",
              "1        2008-11-30\n",
              "2        2008-03-10\n",
              "3        2008-11-03\n",
              "4        2008-07-24\n",
              "            ...    \n",
              "22745    2008-12-30\n",
              "22746    2008-01-19\n",
              "22747    2008-11-05\n",
              "22748    2008-01-10\n",
              "22749    2008-01-06\n",
              "Name: Date of Joining, Length: 22750, dtype: object"
            ]
          },
          "metadata": {
            "tags": []
          },
          "execution_count": 9
        }
      ]
    },
    {
      "cell_type": "code",
      "metadata": {
        "id": "BJFDUxP6tSsa",
        "colab": {
          "base_uri": "https://localhost:8080/"
        },
        "outputId": "c9c239ea-a33b-4192-815e-f40c5ade2e30"
      },
      "source": [
        "pd.to_datetime(df_train['Date of Joining'])"
      ],
      "execution_count": null,
      "outputs": [
        {
          "output_type": "execute_result",
          "data": {
            "text/plain": [
              "0       2008-09-30\n",
              "1       2008-11-30\n",
              "2       2008-03-10\n",
              "3       2008-11-03\n",
              "4       2008-07-24\n",
              "           ...    \n",
              "22745   2008-12-30\n",
              "22746   2008-01-19\n",
              "22747   2008-11-05\n",
              "22748   2008-01-10\n",
              "22749   2008-01-06\n",
              "Name: Date of Joining, Length: 22750, dtype: datetime64[ns]"
            ]
          },
          "metadata": {
            "tags": []
          },
          "execution_count": 10
        }
      ]
    },
    {
      "cell_type": "code",
      "metadata": {
        "id": "1lIV6xM-vaMT"
      },
      "source": [
        "df_train['Date of Joining'] = pd.to_datetime(df_train['Date of Joining'])"
      ],
      "execution_count": null,
      "outputs": []
    },
    {
      "cell_type": "code",
      "metadata": {
        "colab": {
          "base_uri": "https://localhost:8080/"
        },
        "id": "qUqMNh_YyaIx",
        "outputId": "5a78e8bb-52c7-4736-816a-e0ef9157f026"
      },
      "source": [
        "now = pd.to_datetime('now')\n",
        "now"
      ],
      "execution_count": null,
      "outputs": [
        {
          "output_type": "execute_result",
          "data": {
            "text/plain": [
              "Timestamp('2021-04-15 04:09:27.155949')"
            ]
          },
          "metadata": {
            "tags": []
          },
          "execution_count": 12
        }
      ]
    },
    {
      "cell_type": "code",
      "metadata": {
        "id": "9dK2UmEB0458"
      },
      "source": [
        "df_train['Experience'] = round((now - df_train['Date of Joining']).dt.total_seconds() / (60*60*24*365.25), 1)"
      ],
      "execution_count": null,
      "outputs": []
    },
    {
      "cell_type": "code",
      "metadata": {
        "colab": {
          "base_uri": "https://localhost:8080/",
          "height": 212
        },
        "id": "03nAMhoK1WSI",
        "outputId": "3485de68-8f2e-4b58-e133-ae5fc6c26458"
      },
      "source": [
        "df_train.head()"
      ],
      "execution_count": null,
      "outputs": [
        {
          "output_type": "execute_result",
          "data": {
            "text/html": [
              "<div>\n",
              "<style scoped>\n",
              "    .dataframe tbody tr th:only-of-type {\n",
              "        vertical-align: middle;\n",
              "    }\n",
              "\n",
              "    .dataframe tbody tr th {\n",
              "        vertical-align: top;\n",
              "    }\n",
              "\n",
              "    .dataframe thead th {\n",
              "        text-align: right;\n",
              "    }\n",
              "</style>\n",
              "<table border=\"1\" class=\"dataframe\">\n",
              "  <thead>\n",
              "    <tr style=\"text-align: right;\">\n",
              "      <th></th>\n",
              "      <th>Employee ID</th>\n",
              "      <th>Date of Joining</th>\n",
              "      <th>Gender</th>\n",
              "      <th>Company Type</th>\n",
              "      <th>WFH Setup Available</th>\n",
              "      <th>Designation</th>\n",
              "      <th>Resource Allocation</th>\n",
              "      <th>Mental Fatigue Score</th>\n",
              "      <th>Burn Rate</th>\n",
              "      <th>Experience</th>\n",
              "    </tr>\n",
              "  </thead>\n",
              "  <tbody>\n",
              "    <tr>\n",
              "      <th>0</th>\n",
              "      <td>fffe32003000360033003200</td>\n",
              "      <td>2008-09-30</td>\n",
              "      <td>Female</td>\n",
              "      <td>Service</td>\n",
              "      <td>No</td>\n",
              "      <td>2.0</td>\n",
              "      <td>3.0</td>\n",
              "      <td>3.8</td>\n",
              "      <td>0.16</td>\n",
              "      <td>12.5</td>\n",
              "    </tr>\n",
              "    <tr>\n",
              "      <th>1</th>\n",
              "      <td>fffe3700360033003500</td>\n",
              "      <td>2008-11-30</td>\n",
              "      <td>Male</td>\n",
              "      <td>Service</td>\n",
              "      <td>Yes</td>\n",
              "      <td>1.0</td>\n",
              "      <td>2.0</td>\n",
              "      <td>5.0</td>\n",
              "      <td>0.36</td>\n",
              "      <td>12.4</td>\n",
              "    </tr>\n",
              "    <tr>\n",
              "      <th>2</th>\n",
              "      <td>fffe31003300320037003900</td>\n",
              "      <td>2008-03-10</td>\n",
              "      <td>Female</td>\n",
              "      <td>Product</td>\n",
              "      <td>Yes</td>\n",
              "      <td>2.0</td>\n",
              "      <td>NaN</td>\n",
              "      <td>5.8</td>\n",
              "      <td>0.49</td>\n",
              "      <td>13.1</td>\n",
              "    </tr>\n",
              "    <tr>\n",
              "      <th>3</th>\n",
              "      <td>fffe32003400380032003900</td>\n",
              "      <td>2008-11-03</td>\n",
              "      <td>Male</td>\n",
              "      <td>Service</td>\n",
              "      <td>Yes</td>\n",
              "      <td>1.0</td>\n",
              "      <td>1.0</td>\n",
              "      <td>2.6</td>\n",
              "      <td>0.20</td>\n",
              "      <td>12.4</td>\n",
              "    </tr>\n",
              "    <tr>\n",
              "      <th>4</th>\n",
              "      <td>fffe31003900340031003600</td>\n",
              "      <td>2008-07-24</td>\n",
              "      <td>Female</td>\n",
              "      <td>Service</td>\n",
              "      <td>No</td>\n",
              "      <td>3.0</td>\n",
              "      <td>7.0</td>\n",
              "      <td>6.9</td>\n",
              "      <td>0.52</td>\n",
              "      <td>12.7</td>\n",
              "    </tr>\n",
              "  </tbody>\n",
              "</table>\n",
              "</div>"
            ],
            "text/plain": [
              "                Employee ID Date of Joining  ... Burn Rate Experience\n",
              "0  fffe32003000360033003200      2008-09-30  ...      0.16       12.5\n",
              "1      fffe3700360033003500      2008-11-30  ...      0.36       12.4\n",
              "2  fffe31003300320037003900      2008-03-10  ...      0.49       13.1\n",
              "3  fffe32003400380032003900      2008-11-03  ...      0.20       12.4\n",
              "4  fffe31003900340031003600      2008-07-24  ...      0.52       12.7\n",
              "\n",
              "[5 rows x 10 columns]"
            ]
          },
          "metadata": {
            "tags": []
          },
          "execution_count": 14
        }
      ]
    },
    {
      "cell_type": "code",
      "metadata": {
        "id": "usgDicbj2hxI",
        "colab": {
          "base_uri": "https://localhost:8080/",
          "height": 621
        },
        "outputId": "9a420c79-0c72-4817-9034-73f4725f8529"
      },
      "source": [
        "# Plotting experience with burn rate \n",
        "fig, ax = plt.subplots(figsize = (10, 10))\n",
        "ax.scatter(df_train['Experience'].sample(frac=1, random_state=42).iloc[:500], \n",
        "           df_train['Burn Rate'].sample(frac=1, random_state=42).iloc[:500],\n",
        "           color = 'salmon')\n",
        "ax.set(title = 'Relation between experience and burn rate',\n",
        "       xlabel = 'Experience',\n",
        "       ylabel = 'Burn Rate');"
      ],
      "execution_count": null,
      "outputs": [
        {
          "output_type": "display_data",
          "data": {
            "image/png": "[encoded data removed]",
            "text/plain": [
              "<Figure size 720x720 with 1 Axes>"
            ]
          },
          "metadata": {
            "tags": [],
            "needs_background": "light"
          }
        }
      ]
    },
    {
      "cell_type": "markdown",
      "metadata": {
        "id": "zVtrFkH33Mrg"
      },
      "source": [
        "The plot shows that the burn rate usually lies between 0.2 and 0.8 irrespective of experience. Also, burnout rate increases a bit between 12.6 - 13.0 years of experience, not going below 0.2 for this group."
      ]
    },
    {
      "cell_type": "code",
      "metadata": {
        "colab": {
          "base_uri": "https://localhost:8080/",
          "height": 456
        },
        "id": "Lk3WzgC873KY",
        "outputId": "28789a4b-914d-4a1c-825b-45d5c9fa731d"
      },
      "source": [
        "# Distribution of company type \n",
        "plt.figure(figsize=(7,7))\n",
        "df_train['Company Type'].value_counts().plot.bar()\n",
        "plt.show()"
      ],
      "execution_count": null,
      "outputs": [
        {
          "output_type": "display_data",
          "data": {
            "image/png": "[encoded data removed]",
            "text/plain": [
              "<Figure size 504x504 with 1 Axes>"
            ]
          },
          "metadata": {
            "tags": [],
            "needs_background": "light"
          }
        }
      ]
    },
    {
      "cell_type": "markdown",
      "metadata": {
        "id": "C1nDjHU289r2"
      },
      "source": [
        "An overwhelming number of employees most work in service sector, rather than in product sector. This will give us more clarity on its impact in burn rate."
      ]
    },
    {
      "cell_type": "code",
      "metadata": {
        "colab": {
          "base_uri": "https://localhost:8080/"
        },
        "id": "6IF_H-8gr8Nt",
        "outputId": "13d9bffc-d34b-4e9f-eff9-dcff466e02bf"
      },
      "source": [
        "df_train['Experience'][df_train['Company Type']=='Service']"
      ],
      "execution_count": null,
      "outputs": [
        {
          "output_type": "execute_result",
          "data": {
            "text/plain": [
              "0        12.5\n",
              "1        12.4\n",
              "3        12.4\n",
              "4        12.7\n",
              "6        13.3\n",
              "         ... \n",
              "22738    12.3\n",
              "22739    13.2\n",
              "22745    12.3\n",
              "22747    12.4\n",
              "22748    13.3\n",
              "Name: Experience, Length: 14833, dtype: float64"
            ]
          },
          "metadata": {
            "tags": []
          },
          "execution_count": 17
        }
      ]
    },
    {
      "cell_type": "code",
      "metadata": {
        "colab": {
          "base_uri": "https://localhost:8080/",
          "height": 458
        },
        "id": "XKv5ZywA-BPZ",
        "outputId": "d7921d28-e633-46e8-e914-ad64459d7c9b"
      },
      "source": [
        "# Burn rate and experience w.r.t. company type\n",
        "fig, ax = plt.subplots(figsize=(7,7))\n",
        "ax.scatter(df_train['Experience'][df_train['Company Type']=='Service'].sample(frac=1, random_state=42).iloc[:250],\n",
        "           df_train['Burn Rate'][df_train['Company Type']=='Service'].sample(frac=1, random_state=42).iloc[:250],\n",
        "           color='lightgreen', label = 'Service')\n",
        "ax.scatter(df_train['Experience'][df_train['Company Type']=='Product'].sample(frac=1, random_state=42).iloc[:250],\n",
        "           df_train['Burn Rate'][df_train['Company Type']=='Product'].sample(frac=1, random_state=42).iloc[:250],\n",
        "           color='salmon', label = 'Product')\n",
        "ax.set(title = 'Relation between Experience and Burn Rate w.r.t. company',\n",
        "       xlabel = 'Experience in years',\n",
        "       ylabel = 'Burn rate')\n",
        "ax.legend();"
      ],
      "execution_count": null,
      "outputs": [
        {
          "output_type": "display_data",
          "data": {
            "image/png": "[encoded data removed]",
            "text/plain": [
              "<Figure size 504x504 with 1 Axes>"
            ]
          },
          "metadata": {
            "tags": [],
            "needs_background": "light"
          }
        }
      ]
    },
    {
      "cell_type": "markdown",
      "metadata": {
        "id": "6p7aZDdqsqgf"
      },
      "source": [
        "The plot shows that people employed in the service sector and with more experience are more vulnerable to burnout. Also, the product sector inhabits the lower burnout region densely.\n",
        "\n",
        "This shows that service sector employees are more prone to burnout."
      ]
    },
    {
      "cell_type": "code",
      "metadata": {
        "colab": {
          "base_uri": "https://localhost:8080/",
          "height": 455
        },
        "id": "SpTauxuNvDJl",
        "outputId": "ab05a84d-b064-4205-daf1-97003ec615c4"
      },
      "source": [
        "# Gender distribution \n",
        "plt.figure(figsize=(7,7))\n",
        "df_train['Gender'].value_counts().plot.bar(color=['springgreen', 'orangered'])\n",
        "plt.show()"
      ],
      "execution_count": null,
      "outputs": [
        {
          "output_type": "display_data",
          "data": {
            "image/png": "[encoded data removed]",
            "text/plain": [
              "<Figure size 504x504 with 1 Axes>"
            ]
          },
          "metadata": {
            "tags": [],
            "needs_background": "light"
          }
        }
      ]
    },
    {
      "cell_type": "markdown",
      "metadata": {
        "id": "lBMXQqA5vmql"
      },
      "source": [
        "The plot shows that there are slightly more women than men in the workplace, let's try to get a more deep insight on how gender affects burn rate."
      ]
    },
    {
      "cell_type": "code",
      "metadata": {
        "colab": {
          "base_uri": "https://localhost:8080/",
          "height": 323
        },
        "id": "4DYq3lR7xIfd",
        "outputId": "4257eb54-cb07-468d-b157-120840f8633d"
      },
      "source": [
        "# Making a cross distribution of gender and company type\n",
        "plt.figure(figsize=(7,7))\n",
        "pd.crosstab(df_train['Gender'], df_train['Company Type']).plot.bar()\n",
        "plt.legend(loc='upper left')\n",
        "plt.show()"
      ],
      "execution_count": null,
      "outputs": [
        {
          "output_type": "display_data",
          "data": {
            "text/plain": [
              "<Figure size 504x504 with 0 Axes>"
            ]
          },
          "metadata": {
            "tags": []
          }
        },
        {
          "output_type": "display_data",
          "data": {
            "image/png": "[encoded data removed]",
            "text/plain": [
              "<Figure size 432x288 with 1 Axes>"
            ]
          },
          "metadata": {
            "tags": [],
            "needs_background": "light"
          }
        }
      ]
    },
    {
      "cell_type": "markdown",
      "metadata": {
        "id": "jT-x97ikxWBb"
      },
      "source": [
        "The plot shows that an almost same ratio of male and female employees are split between service and ratio."
      ]
    },
    {
      "cell_type": "code",
      "metadata": {
        "colab": {
          "base_uri": "https://localhost:8080/",
          "height": 401
        },
        "id": "0usz2SWV1dtY",
        "outputId": "cf6516ed-f638-4f5f-8dfb-ebc55ca02289"
      },
      "source": [
        "# Using seaborn for plotting categorical plots \n",
        "import seaborn as sns\n",
        "small_df = df_train.sample(500, random_state=42)\n",
        "plt.figure(figsize=(7,7))\n",
        "sns.catplot(x='Gender', y='Burn Rate', hue='Company Type', data=small_df)\n",
        "plt.show()"
      ],
      "execution_count": null,
      "outputs": [
        {
          "output_type": "display_data",
          "data": {
            "text/plain": [
              "<Figure size 504x504 with 0 Axes>"
            ]
          },
          "metadata": {
            "tags": []
          }
        },
        {
          "output_type": "display_data",
          "data": {
            "image/png": "[encoded data removed]",
            "text/plain": [
              "<Figure size 441x360 with 1 Axes>"
            ]
          },
          "metadata": {
            "tags": [],
            "needs_background": "light"
          }
        }
      ]
    },
    {
      "cell_type": "markdown",
      "metadata": {
        "id": "QgcA6IQs18vz"
      },
      "source": [
        "The plot shows that among the men in product sector the burn rate is higher, while the burn rate being clearly high in service sector employees."
      ]
    },
    {
      "cell_type": "code",
      "metadata": {
        "id": "99gqt4xp4BKU",
        "colab": {
          "base_uri": "https://localhost:8080/",
          "height": 194
        },
        "outputId": "b0883fce-5982-4c81-f248-b94e7ff05b1e"
      },
      "source": [
        " df_train.head()"
      ],
      "execution_count": null,
      "outputs": [
        {
          "output_type": "execute_result",
          "data": {
            "text/html": [
              "<div>\n",
              "<style scoped>\n",
              "    .dataframe tbody tr th:only-of-type {\n",
              "        vertical-align: middle;\n",
              "    }\n",
              "\n",
              "    .dataframe tbody tr th {\n",
              "        vertical-align: top;\n",
              "    }\n",
              "\n",
              "    .dataframe thead th {\n",
              "        text-align: right;\n",
              "    }\n",
              "</style>\n",
              "<table border=\"1\" class=\"dataframe\">\n",
              "  <thead>\n",
              "    <tr style=\"text-align: right;\">\n",
              "      <th></th>\n",
              "      <th>Employee ID</th>\n",
              "      <th>Date of Joining</th>\n",
              "      <th>Gender</th>\n",
              "      <th>Company Type</th>\n",
              "      <th>WFH Setup Available</th>\n",
              "      <th>Designation</th>\n",
              "      <th>Resource Allocation</th>\n",
              "      <th>Mental Fatigue Score</th>\n",
              "      <th>Burn Rate</th>\n",
              "      <th>Experience</th>\n",
              "    </tr>\n",
              "  </thead>\n",
              "  <tbody>\n",
              "    <tr>\n",
              "      <th>0</th>\n",
              "      <td>fffe32003000360033003200</td>\n",
              "      <td>2008-09-30</td>\n",
              "      <td>Female</td>\n",
              "      <td>Service</td>\n",
              "      <td>No</td>\n",
              "      <td>2.0</td>\n",
              "      <td>3.0</td>\n",
              "      <td>3.8</td>\n",
              "      <td>0.16</td>\n",
              "      <td>12.5</td>\n",
              "    </tr>\n",
              "    <tr>\n",
              "      <th>1</th>\n",
              "      <td>fffe3700360033003500</td>\n",
              "      <td>2008-11-30</td>\n",
              "      <td>Male</td>\n",
              "      <td>Service</td>\n",
              "      <td>Yes</td>\n",
              "      <td>1.0</td>\n",
              "      <td>2.0</td>\n",
              "      <td>5.0</td>\n",
              "      <td>0.36</td>\n",
              "      <td>12.4</td>\n",
              "    </tr>\n",
              "    <tr>\n",
              "      <th>2</th>\n",
              "      <td>fffe31003300320037003900</td>\n",
              "      <td>2008-03-10</td>\n",
              "      <td>Female</td>\n",
              "      <td>Product</td>\n",
              "      <td>Yes</td>\n",
              "      <td>2.0</td>\n",
              "      <td>NaN</td>\n",
              "      <td>5.8</td>\n",
              "      <td>0.49</td>\n",
              "      <td>13.1</td>\n",
              "    </tr>\n",
              "    <tr>\n",
              "      <th>3</th>\n",
              "      <td>fffe32003400380032003900</td>\n",
              "      <td>2008-11-03</td>\n",
              "      <td>Male</td>\n",
              "      <td>Service</td>\n",
              "      <td>Yes</td>\n",
              "      <td>1.0</td>\n",
              "      <td>1.0</td>\n",
              "      <td>2.6</td>\n",
              "      <td>0.20</td>\n",
              "      <td>12.4</td>\n",
              "    </tr>\n",
              "    <tr>\n",
              "      <th>4</th>\n",
              "      <td>fffe31003900340031003600</td>\n",
              "      <td>2008-07-24</td>\n",
              "      <td>Female</td>\n",
              "      <td>Service</td>\n",
              "      <td>No</td>\n",
              "      <td>3.0</td>\n",
              "      <td>7.0</td>\n",
              "      <td>6.9</td>\n",
              "      <td>0.52</td>\n",
              "      <td>12.7</td>\n",
              "    </tr>\n",
              "  </tbody>\n",
              "</table>\n",
              "</div>"
            ],
            "text/plain": [
              "                Employee ID Date of Joining  ... Burn Rate Experience\n",
              "0  fffe32003000360033003200      2008-09-30  ...      0.16       12.5\n",
              "1      fffe3700360033003500      2008-11-30  ...      0.36       12.4\n",
              "2  fffe31003300320037003900      2008-03-10  ...      0.49       13.1\n",
              "3  fffe32003400380032003900      2008-11-03  ...      0.20       12.4\n",
              "4  fffe31003900340031003600      2008-07-24  ...      0.52       12.7\n",
              "\n",
              "[5 rows x 10 columns]"
            ]
          },
          "metadata": {
            "tags": []
          },
          "execution_count": 22
        }
      ]
    },
    {
      "cell_type": "code",
      "metadata": {
        "colab": {
          "base_uri": "https://localhost:8080/",
          "height": 323
        },
        "id": "8JfBFL40bTWU",
        "outputId": "2d3b0678-92c2-4b38-fdbb-00bdaf070b2d"
      },
      "source": [
        "# Plotting wfh setup and gender \n",
        "plt.figure(figsize=(7,7))\n",
        "pd.crosstab(df_train['Gender'], df_train['WFH Setup Available']).plot.bar()\n",
        "plt.show()"
      ],
      "execution_count": null,
      "outputs": [
        {
          "output_type": "display_data",
          "data": {
            "text/plain": [
              "<Figure size 504x504 with 0 Axes>"
            ]
          },
          "metadata": {
            "tags": []
          }
        },
        {
          "output_type": "display_data",
          "data": {
            "image/png": "[encoded data removed]",
            "text/plain": [
              "<Figure size 432x288 with 1 Axes>"
            ]
          },
          "metadata": {
            "tags": [],
            "needs_background": "light"
          }
        }
      ]
    },
    {
      "cell_type": "markdown",
      "metadata": {
        "id": "cm235A-rbsMN"
      },
      "source": [
        "More females have work-from-home setup arranged whereas an equal number of males have and don't have work-from-home setup."
      ]
    },
    {
      "cell_type": "code",
      "metadata": {
        "colab": {
          "base_uri": "https://localhost:8080/",
          "height": 401
        },
        "id": "VLBpHi3tcBBB",
        "outputId": "55ab25cf-a473-4467-9edb-97aa081e5407"
      },
      "source": [
        "small_df = df_train.sample(500, random_state=42)\n",
        "plt.figure(figsize=(7,7))\n",
        "sns.catplot(x='Gender', y='Burn Rate', hue='WFH Setup Available', data=small_df)\n",
        "plt.show()"
      ],
      "execution_count": null,
      "outputs": [
        {
          "output_type": "display_data",
          "data": {
            "text/plain": [
              "<Figure size 504x504 with 0 Axes>"
            ]
          },
          "metadata": {
            "tags": []
          }
        },
        {
          "output_type": "display_data",
          "data": {
            "image/png": "[encoded data removed]",
            "text/plain": [
              "<Figure size 471.625x360 with 1 Axes>"
            ]
          },
          "metadata": {
            "tags": [],
            "needs_background": "light"
          }
        }
      ]
    },
    {
      "cell_type": "markdown",
      "metadata": {
        "id": "LgjaQ-JmcNA1"
      },
      "source": [
        "This is clear that employees who don't have work from home setup available are more prone to burn out."
      ]
    },
    {
      "cell_type": "code",
      "metadata": {
        "colab": {
          "base_uri": "https://localhost:8080/",
          "height": 458
        },
        "id": "qWPkUJ8lcuwr",
        "outputId": "61920e6b-256e-4e87-a634-0f60e66eb7c8"
      },
      "source": [
        "# Plotting mental fatigue score with burn rate \n",
        "fig, ax = plt.subplots(figsize=(7,7))\n",
        "ax.scatter(df_train['Mental Fatigue Score'][df_train['WFH Setup Available']=='Yes'].sample(frac=1, random_state=42).iloc[:250],\n",
        "           df_train['Burn Rate'][df_train['WFH Setup Available']=='Yes'].sample(frac=1, random_state=42).iloc[:250],\n",
        "           color = 'crimson', label='Yes', marker='x')\n",
        "ax.scatter(df_train['Mental Fatigue Score'][df_train['WFH Setup Available']=='No'].sample(frac=1, random_state=42).iloc[:250],\n",
        "           df_train['Burn Rate'][df_train['WFH Setup Available']=='No'].sample(frac=1, random_state=42).iloc[:250],\n",
        "           color = 'lightseagreen', label='No', marker='x')\n",
        "ax.set(title = 'Relation between Experience and Burn Rate w.r.t. company',\n",
        "       xlabel = 'Mental Fatigue Score',\n",
        "       ylabel = 'Burn rate')\n",
        "ax.legend();"
      ],
      "execution_count": null,
      "outputs": [
        {
          "output_type": "display_data",
          "data": {
            "image/png": "[encoded data removed]",
            "text/plain": [
              "<Figure size 504x504 with 1 Axes>"
            ]
          },
          "metadata": {
            "tags": [],
            "needs_background": "light"
          }
        }
      ]
    },
    {
      "cell_type": "markdown",
      "metadata": {
        "id": "KIoVSOA8eZEx"
      },
      "source": [
        "This shows that mental fatigue score is directly proportional to burn rate and those who don't have wfh setup have higer mental fatigue score and higher burn rate."
      ]
    },
    {
      "cell_type": "code",
      "metadata": {
        "colab": {
          "base_uri": "https://localhost:8080/",
          "height": 458
        },
        "id": "_WOLjtAHgGEz",
        "outputId": "2a84a7bc-4e7d-4980-b93b-babc7c91034a"
      },
      "source": [
        "# Plotting wfh designation and resource allocation\n",
        "fig, ax = plt.subplots(figsize=(7,7))\n",
        "ax.scatter(df_train['Resource Allocation'].sample(frac=1, random_state=42).iloc[:500],\n",
        "           df_train['Designation'].sample(frac=1, random_state=42).iloc[:500])\n",
        "ax.set(title='Designation and Resource Allocation',\n",
        "       xlabel='Resource Allocation',\n",
        "       ylabel='Designation');"
      ],
      "execution_count": null,
      "outputs": [
        {
          "output_type": "display_data",
          "data": {
            "image/png": "[encoded data removed]",
            "text/plain": [
              "<Figure size 504x504 with 1 Axes>"
            ]
          },
          "metadata": {
            "tags": [],
            "needs_background": "light"
          }
        }
      ]
    },
    {
      "cell_type": "markdown",
      "metadata": {
        "id": "D9ChKIoJgtbt"
      },
      "source": [
        "The plot shows that higher the designation, higher are the hours allocated per day."
      ]
    },
    {
      "cell_type": "code",
      "metadata": {
        "colab": {
          "base_uri": "https://localhost:8080/",
          "height": 401
        },
        "id": "yvfrhfPYigRw",
        "outputId": "16e055f6-a712-4e1f-b7df-ae093e4bc36a"
      },
      "source": [
        "# Plot showing relation of resource allocation and burn rate w.r.t. designation\n",
        "plt.figure(figsize=(7,7))\n",
        "sns.catplot(x='Resource Allocation', y='Burn Rate', hue='Designation', data=small_df)\n",
        "plt.show()"
      ],
      "execution_count": null,
      "outputs": [
        {
          "output_type": "display_data",
          "data": {
            "text/plain": [
              "<Figure size 504x504 with 0 Axes>"
            ]
          },
          "metadata": {
            "tags": []
          }
        },
        {
          "output_type": "display_data",
          "data": {
            "image/png": "[encoded data removed]",
            "text/plain": [
              "<Figure size 428x360 with 1 Axes>"
            ]
          },
          "metadata": {
            "tags": [],
            "needs_background": "light"
          }
        }
      ]
    },
    {
      "cell_type": "markdown",
      "metadata": {
        "id": "8MU0q7C5i57F"
      },
      "source": [
        "The plot shows that employees who have higher positions and give more time on their job are suffering from significantly higher burn rates."
      ]
    },
    {
      "cell_type": "code",
      "metadata": {
        "colab": {
          "base_uri": "https://localhost:8080/",
          "height": 401
        },
        "id": "3kRmkL5Kjzvr",
        "outputId": "d13420c5-2903-44bf-9d10-26048bca33c3"
      },
      "source": [
        "# Plotting mental fatigue score with burn rate \n",
        "plt.figure(figsize=(8,8))\n",
        "sns.catplot(x='Designation', y='Burn Rate', hue='WFH Setup Available', data = small_df)\n",
        "plt.show();"
      ],
      "execution_count": null,
      "outputs": [
        {
          "output_type": "display_data",
          "data": {
            "text/plain": [
              "<Figure size 576x576 with 0 Axes>"
            ]
          },
          "metadata": {
            "tags": []
          }
        },
        {
          "output_type": "display_data",
          "data": {
            "image/png": "[encoded data removed]",
            "text/plain": [
              "<Figure size 471.625x360 with 1 Axes>"
            ]
          },
          "metadata": {
            "tags": [],
            "needs_background": "light"
          }
        }
      ]
    },
    {
      "cell_type": "markdown",
      "metadata": {
        "id": "5phm_eUfkL85"
      },
      "source": [
        "It is seen in the plot that those who don't have WHF setup available in every designation level are more prone to burn out."
      ]
    },
    {
      "cell_type": "markdown",
      "metadata": {
        "id": "YHrBcaQWlFqd"
      },
      "source": [
        "Now, the EDA part is over. Let's summarize by writing some points about the dataset:\n",
        "\n",
        "\n",
        "1.   Irrespective of gender, employees in service sector are prone to higher burn rates.\n",
        "2.   Employees with higher mental fatigue scores are having proportinally higher burn rates.\n",
        "3.   Employees at higher designation allocate more resources and hence have higher burn rate.\n",
        "4.   At every level of designation and resource allocation, employees who don't have WFH setup available are suffering from higher burn rates.\n",
        "\n",
        "Let's see the correlation matrix to see correlations between fields."
      ]
    },
    {
      "cell_type": "code",
      "metadata": {
        "colab": {
          "base_uri": "https://localhost:8080/",
          "height": 141
        },
        "id": "SV9W6Zi_nHwG",
        "outputId": "051ab1eb-6837-44f3-c521-c81fd1a46b2f"
      },
      "source": [
        "# Plotting correlation matrix\n",
        "corr = df_train.corr()\n",
        "corr.style.background_gradient(cmap='coolwarm')"
      ],
      "execution_count": null,
      "outputs": [
        {
          "output_type": "execute_result",
          "data": {
            "text/html": [
              "<style  type=\"text/css\" >\n",
              "#T_9a050cb0_9da0_11eb_8b35_0242ac1c0002row0_col0,#T_9a050cb0_9da0_11eb_8b35_0242ac1c0002row1_col1,#T_9a050cb0_9da0_11eb_8b35_0242ac1c0002row2_col2,#T_9a050cb0_9da0_11eb_8b35_0242ac1c0002row3_col3,#T_9a050cb0_9da0_11eb_8b35_0242ac1c0002row4_col4{\n",
              "            background-color:  #b40426;\n",
              "            color:  #f1f1f1;\n",
              "        }#T_9a050cb0_9da0_11eb_8b35_0242ac1c0002row0_col1,#T_9a050cb0_9da0_11eb_8b35_0242ac1c0002row1_col0{\n",
              "            background-color:  #dd5f4b;\n",
              "            color:  #000000;\n",
              "        }#T_9a050cb0_9da0_11eb_8b35_0242ac1c0002row0_col2{\n",
              "            background-color:  #f7af91;\n",
              "            color:  #000000;\n",
              "        }#T_9a050cb0_9da0_11eb_8b35_0242ac1c0002row0_col3,#T_9a050cb0_9da0_11eb_8b35_0242ac1c0002row3_col0{\n",
              "            background-color:  #f59f80;\n",
              "            color:  #000000;\n",
              "        }#T_9a050cb0_9da0_11eb_8b35_0242ac1c0002row0_col4,#T_9a050cb0_9da0_11eb_8b35_0242ac1c0002row1_col4,#T_9a050cb0_9da0_11eb_8b35_0242ac1c0002row3_col4{\n",
              "            background-color:  #3c4ec2;\n",
              "            color:  #f1f1f1;\n",
              "        }#T_9a050cb0_9da0_11eb_8b35_0242ac1c0002row1_col2,#T_9a050cb0_9da0_11eb_8b35_0242ac1c0002row2_col1{\n",
              "            background-color:  #ee8468;\n",
              "            color:  #000000;\n",
              "        }#T_9a050cb0_9da0_11eb_8b35_0242ac1c0002row1_col3,#T_9a050cb0_9da0_11eb_8b35_0242ac1c0002row3_col1{\n",
              "            background-color:  #e26952;\n",
              "            color:  #000000;\n",
              "        }#T_9a050cb0_9da0_11eb_8b35_0242ac1c0002row2_col0{\n",
              "            background-color:  #f7b093;\n",
              "            color:  #000000;\n",
              "        }#T_9a050cb0_9da0_11eb_8b35_0242ac1c0002row2_col3,#T_9a050cb0_9da0_11eb_8b35_0242ac1c0002row3_col2{\n",
              "            background-color:  #c83836;\n",
              "            color:  #f1f1f1;\n",
              "        }#T_9a050cb0_9da0_11eb_8b35_0242ac1c0002row2_col4,#T_9a050cb0_9da0_11eb_8b35_0242ac1c0002row4_col0,#T_9a050cb0_9da0_11eb_8b35_0242ac1c0002row4_col1,#T_9a050cb0_9da0_11eb_8b35_0242ac1c0002row4_col2,#T_9a050cb0_9da0_11eb_8b35_0242ac1c0002row4_col3{\n",
              "            background-color:  #3b4cc0;\n",
              "            color:  #f1f1f1;\n",
              "        }</style><table id=\"T_9a050cb0_9da0_11eb_8b35_0242ac1c0002\" ><thead>    <tr>        <th class=\"blank level0\" ></th>        <th class=\"col_heading level0 col0\" >Designation</th>        <th class=\"col_heading level0 col1\" >Resource Allocation</th>        <th class=\"col_heading level0 col2\" >Mental Fatigue Score</th>        <th class=\"col_heading level0 col3\" >Burn Rate</th>        <th class=\"col_heading level0 col4\" >Experience</th>    </tr></thead><tbody>\n",
              "                <tr>\n",
              "                        <th id=\"T_9a050cb0_9da0_11eb_8b35_0242ac1c0002level0_row0\" class=\"row_heading level0 row0\" >Designation</th>\n",
              "                        <td id=\"T_9a050cb0_9da0_11eb_8b35_0242ac1c0002row0_col0\" class=\"data row0 col0\" >1.000000</td>\n",
              "                        <td id=\"T_9a050cb0_9da0_11eb_8b35_0242ac1c0002row0_col1\" class=\"data row0 col1\" >0.878459</td>\n",
              "                        <td id=\"T_9a050cb0_9da0_11eb_8b35_0242ac1c0002row0_col2\" class=\"data row0 col2\" >0.690983</td>\n",
              "                        <td id=\"T_9a050cb0_9da0_11eb_8b35_0242ac1c0002row0_col3\" class=\"data row0 col3\" >0.737556</td>\n",
              "                        <td id=\"T_9a050cb0_9da0_11eb_8b35_0242ac1c0002row0_col4\" class=\"data row0 col4\" >0.001261</td>\n",
              "            </tr>\n",
              "            <tr>\n",
              "                        <th id=\"T_9a050cb0_9da0_11eb_8b35_0242ac1c0002level0_row1\" class=\"row_heading level0 row1\" >Resource Allocation</th>\n",
              "                        <td id=\"T_9a050cb0_9da0_11eb_8b35_0242ac1c0002row1_col0\" class=\"data row1 col0\" >0.878459</td>\n",
              "                        <td id=\"T_9a050cb0_9da0_11eb_8b35_0242ac1c0002row1_col1\" class=\"data row1 col1\" >1.000000</td>\n",
              "                        <td id=\"T_9a050cb0_9da0_11eb_8b35_0242ac1c0002row1_col2\" class=\"data row1 col2\" >0.799662</td>\n",
              "                        <td id=\"T_9a050cb0_9da0_11eb_8b35_0242ac1c0002row1_col3\" class=\"data row1 col3\" >0.856278</td>\n",
              "                        <td id=\"T_9a050cb0_9da0_11eb_8b35_0242ac1c0002row1_col4\" class=\"data row1 col4\" >0.000471</td>\n",
              "            </tr>\n",
              "            <tr>\n",
              "                        <th id=\"T_9a050cb0_9da0_11eb_8b35_0242ac1c0002level0_row2\" class=\"row_heading level0 row2\" >Mental Fatigue Score</th>\n",
              "                        <td id=\"T_9a050cb0_9da0_11eb_8b35_0242ac1c0002row2_col0\" class=\"data row2 col0\" >0.690983</td>\n",
              "                        <td id=\"T_9a050cb0_9da0_11eb_8b35_0242ac1c0002row2_col1\" class=\"data row2 col1\" >0.799662</td>\n",
              "                        <td id=\"T_9a050cb0_9da0_11eb_8b35_0242ac1c0002row2_col2\" class=\"data row2 col2\" >1.000000</td>\n",
              "                        <td id=\"T_9a050cb0_9da0_11eb_8b35_0242ac1c0002row2_col3\" class=\"data row2 col3\" >0.944546</td>\n",
              "                        <td id=\"T_9a050cb0_9da0_11eb_8b35_0242ac1c0002row2_col4\" class=\"data row2 col4\" >-0.003545</td>\n",
              "            </tr>\n",
              "            <tr>\n",
              "                        <th id=\"T_9a050cb0_9da0_11eb_8b35_0242ac1c0002level0_row3\" class=\"row_heading level0 row3\" >Burn Rate</th>\n",
              "                        <td id=\"T_9a050cb0_9da0_11eb_8b35_0242ac1c0002row3_col0\" class=\"data row3 col0\" >0.737556</td>\n",
              "                        <td id=\"T_9a050cb0_9da0_11eb_8b35_0242ac1c0002row3_col1\" class=\"data row3 col1\" >0.856278</td>\n",
              "                        <td id=\"T_9a050cb0_9da0_11eb_8b35_0242ac1c0002row3_col2\" class=\"data row3 col2\" >0.944546</td>\n",
              "                        <td id=\"T_9a050cb0_9da0_11eb_8b35_0242ac1c0002row3_col3\" class=\"data row3 col3\" >1.000000</td>\n",
              "                        <td id=\"T_9a050cb0_9da0_11eb_8b35_0242ac1c0002row3_col4\" class=\"data row3 col4\" >0.001015</td>\n",
              "            </tr>\n",
              "            <tr>\n",
              "                        <th id=\"T_9a050cb0_9da0_11eb_8b35_0242ac1c0002level0_row4\" class=\"row_heading level0 row4\" >Experience</th>\n",
              "                        <td id=\"T_9a050cb0_9da0_11eb_8b35_0242ac1c0002row4_col0\" class=\"data row4 col0\" >0.001261</td>\n",
              "                        <td id=\"T_9a050cb0_9da0_11eb_8b35_0242ac1c0002row4_col1\" class=\"data row4 col1\" >0.000471</td>\n",
              "                        <td id=\"T_9a050cb0_9da0_11eb_8b35_0242ac1c0002row4_col2\" class=\"data row4 col2\" >-0.003545</td>\n",
              "                        <td id=\"T_9a050cb0_9da0_11eb_8b35_0242ac1c0002row4_col3\" class=\"data row4 col3\" >0.001015</td>\n",
              "                        <td id=\"T_9a050cb0_9da0_11eb_8b35_0242ac1c0002row4_col4\" class=\"data row4 col4\" >1.000000</td>\n",
              "            </tr>\n",
              "    </tbody></table>"
            ],
            "text/plain": [
              "<pandas.io.formats.style.Styler at 0x7fefb20e9310>"
            ]
          },
          "metadata": {
            "tags": []
          },
          "execution_count": 29
        }
      ]
    },
    {
      "cell_type": "markdown",
      "metadata": {
        "id": "Qzq8vfEunaAi"
      },
      "source": [
        "## Modelling \n",
        "Now, its time to start preprocessing and creating a prediction model pipeline."
      ]
    },
    {
      "cell_type": "code",
      "metadata": {
        "colab": {
          "base_uri": "https://localhost:8080/"
        },
        "id": "Zl04789Tn-F0",
        "outputId": "68730a6c-6ccd-485a-f997-5e7308ebfe11"
      },
      "source": [
        "# Shape of dataframe\n",
        "print(df_train.shape)\n",
        "print(df_train.columns)"
      ],
      "execution_count": null,
      "outputs": [
        {
          "output_type": "stream",
          "text": [
            "(22750, 10)\n",
            "Index(['Employee ID', 'Date of Joining', 'Gender', 'Company Type',\n",
            "       'WFH Setup Available', 'Designation', 'Resource Allocation',\n",
            "       'Mental Fatigue Score', 'Burn Rate', 'Experience'],\n",
            "      dtype='object')\n"
          ],
          "name": "stdout"
        }
      ]
    },
    {
      "cell_type": "code",
      "metadata": {
        "id": "-i-Q3z9hoGWq"
      },
      "source": [
        "# Columns to be removed, 'Employee id', 'Date of joining' and 'Experience'\n",
        "df_train.drop(['Employee ID', 'Date of Joining', 'Experience'], axis=1, inplace=True)"
      ],
      "execution_count": null,
      "outputs": []
    },
    {
      "cell_type": "code",
      "metadata": {
        "colab": {
          "base_uri": "https://localhost:8080/"
        },
        "id": "1xnByoiNoiz1",
        "outputId": "4011d593-d229-428b-c1fd-a0a9372fbb07"
      },
      "source": [
        "df_train.shape"
      ],
      "execution_count": null,
      "outputs": [
        {
          "output_type": "execute_result",
          "data": {
            "text/plain": [
              "(22750, 7)"
            ]
          },
          "metadata": {
            "tags": []
          },
          "execution_count": 32
        }
      ]
    },
    {
      "cell_type": "code",
      "metadata": {
        "colab": {
          "base_uri": "https://localhost:8080/"
        },
        "id": "SJf5MTOvomIV",
        "outputId": "944c38b0-a60c-4f8c-fe2a-28f35a660cbb"
      },
      "source": [
        "# Filling null values \n",
        "df_train.isna().sum()"
      ],
      "execution_count": null,
      "outputs": [
        {
          "output_type": "execute_result",
          "data": {
            "text/plain": [
              "Gender                     0\n",
              "Company Type               0\n",
              "WFH Setup Available        0\n",
              "Designation                0\n",
              "Resource Allocation     1381\n",
              "Mental Fatigue Score    2117\n",
              "Burn Rate               1124\n",
              "dtype: int64"
            ]
          },
          "metadata": {
            "tags": []
          },
          "execution_count": 33
        }
      ]
    },
    {
      "cell_type": "markdown",
      "metadata": {
        "id": "TGKgF2FmoxO0"
      },
      "source": [
        "Since knowing the burn rate is very important, there is not point in having rows which don't have burn rate."
      ]
    },
    {
      "cell_type": "code",
      "metadata": {
        "colab": {
          "base_uri": "https://localhost:8080/"
        },
        "id": "0m3XoKjip3o9",
        "outputId": "ffc20ba6-b177-446b-b622-0bd8a4dc41c9"
      },
      "source": [
        "df_train['Resource Allocation'].median()"
      ],
      "execution_count": null,
      "outputs": [
        {
          "output_type": "execute_result",
          "data": {
            "text/plain": [
              "4.0"
            ]
          },
          "metadata": {
            "tags": []
          },
          "execution_count": 34
        }
      ]
    },
    {
      "cell_type": "code",
      "metadata": {
        "id": "x2Yf2O8RpFGF"
      },
      "source": [
        "# Filling null values in 'Resource Allocation' and 'Mental Fatigue Score'\n",
        "df_train['Resource Allocation'].fillna(value=df_train['Resource Allocation'].median(), inplace=True)"
      ],
      "execution_count": null,
      "outputs": []
    },
    {
      "cell_type": "code",
      "metadata": {
        "colab": {
          "base_uri": "https://localhost:8080/"
        },
        "id": "j8msTyOKp-Bf",
        "outputId": "b834fe4f-6d20-4042-c0b8-3737b0008b70"
      },
      "source": [
        "df_train.isna().sum()"
      ],
      "execution_count": null,
      "outputs": [
        {
          "output_type": "execute_result",
          "data": {
            "text/plain": [
              "Gender                     0\n",
              "Company Type               0\n",
              "WFH Setup Available        0\n",
              "Designation                0\n",
              "Resource Allocation        0\n",
              "Mental Fatigue Score    2117\n",
              "Burn Rate               1124\n",
              "dtype: int64"
            ]
          },
          "metadata": {
            "tags": []
          },
          "execution_count": 36
        }
      ]
    },
    {
      "cell_type": "code",
      "metadata": {
        "colab": {
          "base_uri": "https://localhost:8080/",
          "height": 297
        },
        "id": "TPUgJ3d2qJRs",
        "outputId": "ed3168b8-96ba-40c3-a11d-9c0c5cb5d315"
      },
      "source": [
        "sns.violinplot(x=df_train['Mental Fatigue Score'])"
      ],
      "execution_count": null,
      "outputs": [
        {
          "output_type": "execute_result",
          "data": {
            "text/plain": [
              "<matplotlib.axes._subplots.AxesSubplot at 0x7fefc90f5b90>"
            ]
          },
          "metadata": {
            "tags": []
          },
          "execution_count": 37
        },
        {
          "output_type": "display_data",
          "data": {
            "image/png": "[encoded data removed]",
            "text/plain": [
              "<Figure size 432x288 with 1 Axes>"
            ]
          },
          "metadata": {
            "tags": [],
            "needs_background": "light"
          }
        }
      ]
    },
    {
      "cell_type": "code",
      "metadata": {
        "colab": {
          "base_uri": "https://localhost:8080/"
        },
        "id": "HHR474zSr_Ku",
        "outputId": "99dde87c-4617-429e-a398-ceb77f573bb3"
      },
      "source": [
        "df_train.isna().sum()"
      ],
      "execution_count": null,
      "outputs": [
        {
          "output_type": "execute_result",
          "data": {
            "text/plain": [
              "Gender                     0\n",
              "Company Type               0\n",
              "WFH Setup Available        0\n",
              "Designation                0\n",
              "Resource Allocation        0\n",
              "Mental Fatigue Score    2117\n",
              "Burn Rate               1124\n",
              "dtype: int64"
            ]
          },
          "metadata": {
            "tags": []
          },
          "execution_count": 38
        }
      ]
    },
    {
      "cell_type": "code",
      "metadata": {
        "id": "j4RrPnUGsC-8"
      },
      "source": [
        "# Dropping rows with no burn rate \n",
        "df_train.dropna(inplace=True)"
      ],
      "execution_count": null,
      "outputs": []
    },
    {
      "cell_type": "code",
      "metadata": {
        "colab": {
          "base_uri": "https://localhost:8080/"
        },
        "id": "3svE-YLDsNX1",
        "outputId": "86691dfa-50b1-443f-cde4-7f01074a54df"
      },
      "source": [
        "df_train.shape"
      ],
      "execution_count": null,
      "outputs": [
        {
          "output_type": "execute_result",
          "data": {
            "text/plain": [
              "(19681, 7)"
            ]
          },
          "metadata": {
            "tags": []
          },
          "execution_count": 40
        }
      ]
    },
    {
      "cell_type": "code",
      "metadata": {
        "id": "1IvPGfXlsOv8"
      },
      "source": [
        "# Label encoding categorical features \n",
        "cat_features = [x for x in df_train.columns if df_train[x].dtype=='object']"
      ],
      "execution_count": null,
      "outputs": []
    },
    {
      "cell_type": "code",
      "metadata": {
        "colab": {
          "base_uri": "https://localhost:8080/"
        },
        "id": "SbH962a_s9Bl",
        "outputId": "aa6579f0-aa43-4981-a61e-b86494fbf78e"
      },
      "source": [
        "cat_features"
      ],
      "execution_count": null,
      "outputs": [
        {
          "output_type": "execute_result",
          "data": {
            "text/plain": [
              "['Gender', 'Company Type', 'WFH Setup Available']"
            ]
          },
          "metadata": {
            "tags": []
          },
          "execution_count": 42
        }
      ]
    },
    {
      "cell_type": "code",
      "metadata": {
        "id": "kDqPczd2uHr9"
      },
      "source": [
        "from sklearn.preprocessing import LabelEncoder\n",
        "for cat in cat_features:\n",
        "  le = LabelEncoder()\n",
        "  df_train[cat] = le.fit_transform(df_train[cat])"
      ],
      "execution_count": null,
      "outputs": []
    },
    {
      "cell_type": "code",
      "metadata": {
        "colab": {
          "base_uri": "https://localhost:8080/",
          "height": 194
        },
        "id": "fdoI7zfbw6Ee",
        "outputId": "bb819515-7180-4195-828b-5ab0c504d7ca"
      },
      "source": [
        "df_train.head()"
      ],
      "execution_count": null,
      "outputs": [
        {
          "output_type": "execute_result",
          "data": {
            "text/html": [
              "<div>\n",
              "<style scoped>\n",
              "    .dataframe tbody tr th:only-of-type {\n",
              "        vertical-align: middle;\n",
              "    }\n",
              "\n",
              "    .dataframe tbody tr th {\n",
              "        vertical-align: top;\n",
              "    }\n",
              "\n",
              "    .dataframe thead th {\n",
              "        text-align: right;\n",
              "    }\n",
              "</style>\n",
              "<table border=\"1\" class=\"dataframe\">\n",
              "  <thead>\n",
              "    <tr style=\"text-align: right;\">\n",
              "      <th></th>\n",
              "      <th>Gender</th>\n",
              "      <th>Company Type</th>\n",
              "      <th>WFH Setup Available</th>\n",
              "      <th>Designation</th>\n",
              "      <th>Resource Allocation</th>\n",
              "      <th>Mental Fatigue Score</th>\n",
              "      <th>Burn Rate</th>\n",
              "    </tr>\n",
              "  </thead>\n",
              "  <tbody>\n",
              "    <tr>\n",
              "      <th>0</th>\n",
              "      <td>0</td>\n",
              "      <td>1</td>\n",
              "      <td>0</td>\n",
              "      <td>2.0</td>\n",
              "      <td>3.0</td>\n",
              "      <td>3.8</td>\n",
              "      <td>0.16</td>\n",
              "    </tr>\n",
              "    <tr>\n",
              "      <th>1</th>\n",
              "      <td>1</td>\n",
              "      <td>1</td>\n",
              "      <td>1</td>\n",
              "      <td>1.0</td>\n",
              "      <td>2.0</td>\n",
              "      <td>5.0</td>\n",
              "      <td>0.36</td>\n",
              "    </tr>\n",
              "    <tr>\n",
              "      <th>2</th>\n",
              "      <td>0</td>\n",
              "      <td>0</td>\n",
              "      <td>1</td>\n",
              "      <td>2.0</td>\n",
              "      <td>4.0</td>\n",
              "      <td>5.8</td>\n",
              "      <td>0.49</td>\n",
              "    </tr>\n",
              "    <tr>\n",
              "      <th>3</th>\n",
              "      <td>1</td>\n",
              "      <td>1</td>\n",
              "      <td>1</td>\n",
              "      <td>1.0</td>\n",
              "      <td>1.0</td>\n",
              "      <td>2.6</td>\n",
              "      <td>0.20</td>\n",
              "    </tr>\n",
              "    <tr>\n",
              "      <th>4</th>\n",
              "      <td>0</td>\n",
              "      <td>1</td>\n",
              "      <td>0</td>\n",
              "      <td>3.0</td>\n",
              "      <td>7.0</td>\n",
              "      <td>6.9</td>\n",
              "      <td>0.52</td>\n",
              "    </tr>\n",
              "  </tbody>\n",
              "</table>\n",
              "</div>"
            ],
            "text/plain": [
              "   Gender  Company Type  ...  Mental Fatigue Score  Burn Rate\n",
              "0       0             1  ...                   3.8       0.16\n",
              "1       1             1  ...                   5.0       0.36\n",
              "2       0             0  ...                   5.8       0.49\n",
              "3       1             1  ...                   2.6       0.20\n",
              "4       0             1  ...                   6.9       0.52\n",
              "\n",
              "[5 rows x 7 columns]"
            ]
          },
          "metadata": {
            "tags": []
          },
          "execution_count": 44
        }
      ]
    },
    {
      "cell_type": "code",
      "metadata": {
        "id": "LnszVZDjxWvk"
      },
      "source": [
        "# Splitting data into train and test split \n",
        "X = df_train.drop('Burn Rate', axis=1)\n",
        "y = df_train['Burn Rate']\n",
        "\n",
        "from sklearn.model_selection import train_test_split\n",
        "X_train_full, X_test, y_train_full, y_test = train_test_split(X, y, \n",
        "                                                              test_size=0.2,\n",
        "                                                              random_state=42)"
      ],
      "execution_count": null,
      "outputs": []
    },
    {
      "cell_type": "code",
      "metadata": {
        "colab": {
          "base_uri": "https://localhost:8080/"
        },
        "id": "N-1JDEz9yMni",
        "outputId": "811180b0-39e5-41ed-d4fb-97672cfac23d"
      },
      "source": [
        "X_train_full.shape, X_test.shape"
      ],
      "execution_count": null,
      "outputs": [
        {
          "output_type": "execute_result",
          "data": {
            "text/plain": [
              "((15744, 6), (3937, 6))"
            ]
          },
          "metadata": {
            "tags": []
          },
          "execution_count": 46
        }
      ]
    },
    {
      "cell_type": "code",
      "metadata": {
        "id": "YShobpySyb58"
      },
      "source": [
        "# Splitting into validation set \n",
        "X_train, X_valid, y_train, y_valid = train_test_split(X_train_full, y_train_full,\n",
        "                                                      test_size=0.25,\n",
        "                                                      random_state=42)"
      ],
      "execution_count": null,
      "outputs": []
    },
    {
      "cell_type": "code",
      "metadata": {
        "colab": {
          "base_uri": "https://localhost:8080/"
        },
        "id": "RGGUqmfByuVX",
        "outputId": "47e478b7-8743-437c-935e-40ebe22990b6"
      },
      "source": [
        "X_train.shape, X_valid.shape"
      ],
      "execution_count": null,
      "outputs": [
        {
          "output_type": "execute_result",
          "data": {
            "text/plain": [
              "((11808, 6), (3936, 6))"
            ]
          },
          "metadata": {
            "tags": []
          },
          "execution_count": 48
        }
      ]
    },
    {
      "cell_type": "code",
      "metadata": {
        "colab": {
          "base_uri": "https://localhost:8080/"
        },
        "id": "d9zs5c8myx6L",
        "outputId": "b7d8a68d-9beb-4bbd-a04f-9ef91d88ce63"
      },
      "source": [
        "# Using Linear Regression on the dataset \n",
        "from sklearn.linear_model import LinearRegression\n",
        "lr = LinearRegression()\n",
        "lr.fit(X_train.values, y_train.values)\n",
        "lr.score(X_valid, y_valid)"
      ],
      "execution_count": null,
      "outputs": [
        {
          "output_type": "execute_result",
          "data": {
            "text/plain": [
              "0.9130281661795171"
            ]
          },
          "metadata": {
            "tags": []
          },
          "execution_count": 49
        }
      ]
    },
    {
      "cell_type": "code",
      "metadata": {
        "id": "IfdgijA-2aXh",
        "colab": {
          "base_uri": "https://localhost:8080/"
        },
        "outputId": "9aa5e883-6ce5-47de-95f7-ca3f18d16bfc"
      },
      "source": [
        "# Finding other metrics on the model \n",
        "from sklearn.metrics import mean_absolute_error, mean_squared_error\n",
        "y_pred = lr.predict(X_valid)\n",
        "print(mean_absolute_error(y_valid, y_pred))"
      ],
      "execution_count": null,
      "outputs": [
        {
          "output_type": "stream",
          "text": [
            "0.047775297276039616\n"
          ],
          "name": "stdout"
        }
      ]
    },
    {
      "cell_type": "code",
      "metadata": {
        "colab": {
          "base_uri": "https://localhost:8080/"
        },
        "id": "m0w26Deu217F",
        "outputId": "bbbd6010-672c-4103-f88c-a3e9fa5af372"
      },
      "source": [
        "print(mean_squared_error(y_valid, y_pred))"
      ],
      "execution_count": null,
      "outputs": [
        {
          "output_type": "stream",
          "text": [
            "0.0033849121235445256\n"
          ],
          "name": "stdout"
        }
      ]
    },
    {
      "cell_type": "code",
      "metadata": {
        "id": "AXdN60g6261u"
      },
      "source": [
        "# Making a function to calculate metrics\n",
        "def metrics(model, X, y_true):\n",
        "  \"\"\"\n",
        "  Function to calculate accuracy, mean squared error and mean absolute error\n",
        "\n",
        "  Parameters\n",
        "  -----------\n",
        "  model - model trained with training data\n",
        "  y_true - true label\n",
        "\n",
        "  Return \n",
        "  -----------\n",
        "  Dictionary storing the metrics \n",
        "  \"\"\"\n",
        "  y_pred = model.predict(X)\n",
        "  mae = mean_absolute_error(y_true, y_pred)\n",
        "  acc = model.score(X, y_true)\n",
        "  mse = mean_squared_error(y_true, y_pred)\n",
        "\n",
        "  return {'Accuracy( in %)': round(acc*100, 4),\n",
        "          'Mean Absolute Error': mae,\n",
        "          'Mean Squared Error': mse}"
      ],
      "execution_count": null,
      "outputs": []
    },
    {
      "cell_type": "code",
      "metadata": {
        "colab": {
          "base_uri": "https://localhost:8080/"
        },
        "id": "IQqL3H8s5E3L",
        "outputId": "ae270912-27cb-494b-a666-a506f415cfa4"
      },
      "source": [
        "metrics(lr, X_valid, y_valid)"
      ],
      "execution_count": null,
      "outputs": [
        {
          "output_type": "execute_result",
          "data": {
            "text/plain": [
              "{'Accuracy( in %)': 91.3028,\n",
              " 'Mean Absolute Error': 0.047775297276039616,\n",
              " 'Mean Squared Error': 0.0033849121235445256}"
            ]
          },
          "metadata": {
            "tags": []
          },
          "execution_count": 53
        }
      ]
    },
    {
      "cell_type": "code",
      "metadata": {
        "colab": {
          "base_uri": "https://localhost:8080/"
        },
        "id": "wnP1MitY5OGQ",
        "outputId": "425e711c-0d29-4fb6-aaaa-8fe353da140e"
      },
      "source": [
        "# Using lasso regression, which gives more importance to some features\n",
        "from sklearn.linear_model import Lasso \n",
        "las = Lasso()\n",
        "las.fit(X_train, y_train)\n",
        "metrics(las, X_valid, y_valid)"
      ],
      "execution_count": null,
      "outputs": [
        {
          "output_type": "execute_result",
          "data": {
            "text/plain": [
              "{'Accuracy( in %)': -0.007,\n",
              " 'Mean Absolute Error': 0.15864330645338973,\n",
              " 'Mean Squared Error': 0.03892235212358899}"
            ]
          },
          "metadata": {
            "tags": []
          },
          "execution_count": 54
        }
      ]
    },
    {
      "cell_type": "code",
      "metadata": {
        "colab": {
          "base_uri": "https://localhost:8080/"
        },
        "id": "ku0DMXgz6neX",
        "outputId": "0a849fbc-36af-4aa3-d070-ee1e774e4070"
      },
      "source": [
        "# Using ridge regression \n",
        "from sklearn.linear_model import Ridge\n",
        "rid = Ridge()\n",
        "rid.fit(X_train, y_train)\n",
        "metrics(rid, X_valid, y_valid)"
      ],
      "execution_count": null,
      "outputs": [
        {
          "output_type": "execute_result",
          "data": {
            "text/plain": [
              "{'Accuracy( in %)': 91.3028,\n",
              " 'Mean Absolute Error': 0.047774964202885774,\n",
              " 'Mean Squared Error': 0.0033849170417458827}"
            ]
          },
          "metadata": {
            "tags": []
          },
          "execution_count": 55
        }
      ]
    },
    {
      "cell_type": "code",
      "metadata": {
        "colab": {
          "base_uri": "https://localhost:8080/"
        },
        "id": "v7qq90KV8xEd",
        "outputId": "5545f681-8c27-49f4-ca21-fc3458975658"
      },
      "source": [
        "# Using random forest, lol \n",
        "from sklearn.ensemble import RandomForestRegressor\n",
        "forest = RandomForestRegressor()\n",
        "forest.fit(X_train, y_train)\n",
        "metrics(forest, X_valid, y_valid)"
      ],
      "execution_count": null,
      "outputs": [
        {
          "output_type": "execute_result",
          "data": {
            "text/plain": [
              "{'Accuracy( in %)': 90.7926,\n",
              " 'Mean Absolute Error': 0.0473779631063071,\n",
              " 'Mean Squared Error': 0.0035834903413420422}"
            ]
          },
          "metadata": {
            "tags": []
          },
          "execution_count": 56
        }
      ]
    },
    {
      "cell_type": "code",
      "metadata": {
        "id": "lLI_KqTk-Cst"
      },
      "source": [
        ""
      ],
      "execution_count": null,
      "outputs": []
    },
    {
      "cell_type": "code",
      "metadata": {
        "id": "WyJo42NY0hWQ"
      },
      "source": [
        ""
      ],
      "execution_count": null,
      "outputs": []
    },
    {
      "cell_type": "code",
      "metadata": {
        "id": "esZfA70v0hYr"
      },
      "source": [
        ""
      ],
      "execution_count": null,
      "outputs": []
    },
    {
      "cell_type": "markdown",
      "metadata": {
        "id": "OI7Xvk2J0i_O"
      },
      "source": [
        "#Implementing some more models"
      ]
    },
    {
      "cell_type": "code",
      "metadata": {
        "id": "OQkkVn7U0idQ",
        "colab": {
          "base_uri": "https://localhost:8080/"
        },
        "outputId": "92ba33b2-29da-4396-a2db-056a1f1ea8f1"
      },
      "source": [
        "#KNN Regressor\n",
        "from sklearn.neighbors import KNeighborsRegressor\n",
        "n1 = KNeighborsRegressor(n_neighbors=2)\n",
        "n1.fit(X_train, y_train)\n"
      ],
      "execution_count": null,
      "outputs": [
        {
          "output_type": "execute_result",
          "data": {
            "text/plain": [
              "KNeighborsRegressor(algorithm='auto', leaf_size=30, metric='minkowski',\n",
              "                    metric_params=None, n_jobs=None, n_neighbors=2, p=2,\n",
              "                    weights='uniform')"
            ]
          },
          "metadata": {
            "tags": []
          },
          "execution_count": 57
        }
      ]
    },
    {
      "cell_type": "code",
      "metadata": {
        "id": "5dqfc74x0hba",
        "colab": {
          "base_uri": "https://localhost:8080/"
        },
        "outputId": "c1e6490f-c889-4197-bca0-082055083dcf"
      },
      "source": [
        "metrics(n1, X_valid, y_valid)"
      ],
      "execution_count": null,
      "outputs": [
        {
          "output_type": "execute_result",
          "data": {
            "text/plain": [
              "{'Accuracy( in %)': 89.1952,\n",
              " 'Mean Absolute Error': 0.050910823170731714,\n",
              " 'Mean Squared Error': 0.004205189278455285}"
            ]
          },
          "metadata": {
            "tags": []
          },
          "execution_count": 59
        }
      ]
    },
    {
      "cell_type": "code",
      "metadata": {
        "id": "VEhnuKWP2Zp_"
      },
      "source": [
        "from sklearn.model_selection import GridSearchCV"
      ],
      "execution_count": null,
      "outputs": []
    },
    {
      "cell_type": "code",
      "metadata": {
        "id": "oCVNhMiG0heR",
        "colab": {
          "base_uri": "https://localhost:8080/"
        },
        "outputId": "40844093-bdba-419c-cd89-9085209bc1d6"
      },
      "source": [
        "leaf_size = list(range(1,50))\n",
        "n_neighbors = list(range(1,30))\n",
        "p=[1,2]\n",
        "#Convert to dictionary\n",
        "hyperparameters = dict(leaf_size=leaf_size, n_neighbors=n_neighbors, p=p)\n",
        "#Create new KNN object\n",
        "knn_2 =KNeighborsRegressor()\n",
        "#Use GridSearch\n",
        "clf = GridSearchCV(knn_2, hyperparameters, cv=10)\n",
        "#Fit the model\n",
        "best_model = clf.fit(X_train,y_train)\n",
        "#Print The value of best Hyperparameters\n",
        "print('Best leaf_size:', best_model.best_estimator_.get_params()['leaf_size'])\n",
        "print('Best p:', best_model.best_estimator_.get_params()['p'])\n",
        "print('Best n_neighbors:', best_model.best_estimator_.get_params()['n_neighbors'])"
      ],
      "execution_count": null,
      "outputs": [
        {
          "output_type": "stream",
          "text": [
            "Best leaf_size: 21\n",
            "Best p: 2\n",
            "Best n_neighbors: 29\n"
          ],
          "name": "stdout"
        }
      ]
    },
    {
      "cell_type": "code",
      "metadata": {
        "id": "hclb8j5q7--5",
        "colab": {
          "base_uri": "https://localhost:8080/"
        },
        "outputId": "6214a91c-3528-46e6-aa9d-c917d6409f7c"
      },
      "source": [
        "n2 = KNeighborsRegressor(n_neighbors=29,p=2,leaf_size=21)\n",
        "n2.fit(X_train, y_train)\n",
        "metrics(n2, X_valid, y_valid)"
      ],
      "execution_count": null,
      "outputs": [
        {
          "output_type": "execute_result",
          "data": {
            "text/plain": [
              "{'Accuracy( in %)': 91.9287,\n",
              " 'Mean Absolute Error': 0.04521613050182226,\n",
              " 'Mean Squared Error': 0.003141309374486432}"
            ]
          },
          "metadata": {
            "tags": []
          },
          "execution_count": 65
        }
      ]
    },
    {
      "cell_type": "markdown",
      "metadata": {
        "id": "ceVM0gtH1VvG"
      },
      "source": [
        "# Deep NeuralNets"
      ]
    },
    {
      "cell_type": "code",
      "metadata": {
        "id": "WHswuawG1egd"
      },
      "source": [
        "import tensorflow as tf\n",
        "from tensorflow.keras.models import Sequential\n",
        "from tensorflow.keras.layers import Dense, Dropout"
      ],
      "execution_count": null,
      "outputs": []
    },
    {
      "cell_type": "code",
      "metadata": {
        "id": "2tj8OnWN-il5"
      },
      "source": [
        "from sklearn.preprocessing import MinMaxScaler\n",
        "cs = MinMaxScaler()\n",
        "X_train = cs.fit_transform(X_train)\n",
        "X_test = cs.transform(X_test)"
      ],
      "execution_count": null,
      "outputs": []
    },
    {
      "cell_type": "code",
      "metadata": {
        "id": "apdYIMcg1YaN"
      },
      "source": [
        "model=Sequential()\n",
        "model.add(Dense(8,activation='relu'))\n",
        "model.add(Dense(8,activation='relu'))\n",
        "model.add(Dense(1,activation='linear'))"
      ],
      "execution_count": null,
      "outputs": []
    },
    {
      "cell_type": "code",
      "metadata": {
        "id": "WV8ERB6g8kFY"
      },
      "source": [
        "model.compile(optimizer='rmsprop', loss='mse', metrics=['accuracy'])"
      ],
      "execution_count": null,
      "outputs": []
    },
    {
      "cell_type": "code",
      "metadata": {
        "id": "1GEONM248naJ",
        "colab": {
          "base_uri": "https://localhost:8080/"
        },
        "outputId": "3f4adf1a-249e-4e0b-eb39-0f54b7f3e2bf"
      },
      "source": [
        "model.fit(x=X_train, y=y_train, batch_size=None, epochs=10, validation_data=(X_valid,y_valid))"
      ],
      "execution_count": null,
      "outputs": [
        {
          "output_type": "stream",
          "text": [
            "Epoch 1/10\n",
            "369/369 [==============================] - 2s 2ms/step - loss: 0.0708 - accuracy: 0.0139 - val_loss: 6.6311 - val_accuracy: 0.0107\n",
            "Epoch 2/10\n",
            "369/369 [==============================] - 1s 2ms/step - loss: 0.0050 - accuracy: 0.0167 - val_loss: 13.5572 - val_accuracy: 0.0132\n",
            "Epoch 3/10\n",
            "369/369 [==============================] - 1s 2ms/step - loss: 0.0037 - accuracy: 0.0157 - val_loss: 16.0961 - val_accuracy: 0.0142\n",
            "Epoch 4/10\n",
            "369/369 [==============================] - 1s 2ms/step - loss: 0.0035 - accuracy: 0.0163 - val_loss: 18.5149 - val_accuracy: 0.0142\n",
            "Epoch 5/10\n",
            "369/369 [==============================] - 1s 2ms/step - loss: 0.0034 - accuracy: 0.0142 - val_loss: 19.6575 - val_accuracy: 0.0142\n",
            "Epoch 6/10\n",
            "369/369 [==============================] - 1s 2ms/step - loss: 0.0033 - accuracy: 0.0167 - val_loss: 20.2252 - val_accuracy: 0.0142\n",
            "Epoch 7/10\n",
            "369/369 [==============================] - 1s 1ms/step - loss: 0.0033 - accuracy: 0.0166 - val_loss: 20.0133 - val_accuracy: 0.0145\n",
            "Epoch 8/10\n",
            "369/369 [==============================] - 1s 2ms/step - loss: 0.0033 - accuracy: 0.0155 - val_loss: 20.6040 - val_accuracy: 0.0145\n",
            "Epoch 9/10\n",
            "369/369 [==============================] - 1s 2ms/step - loss: 0.0033 - accuracy: 0.0174 - val_loss: 20.5702 - val_accuracy: 0.0145\n",
            "Epoch 10/10\n",
            "369/369 [==============================] - 1s 2ms/step - loss: 0.0032 - accuracy: 0.0157 - val_loss: 20.8142 - val_accuracy: 0.0145\n"
          ],
          "name": "stdout"
        },
        {
          "output_type": "execute_result",
          "data": {
            "text/plain": [
              "<tensorflow.python.keras.callbacks.History at 0x7fef722f8b10>"
            ]
          },
          "metadata": {
            "tags": []
          },
          "execution_count": 107
        }
      ]
    },
    {
      "cell_type": "code",
      "metadata": {
        "id": "ILe4X3Ay9NYX"
      },
      "source": [
        "scores = model.evaluate(X_valid, y_valid, verbose=0)"
      ],
      "execution_count": null,
      "outputs": []
    },
    {
      "cell_type": "code",
      "metadata": {
        "id": "HlVN6IuD9ZRZ",
        "colab": {
          "base_uri": "https://localhost:8080/"
        },
        "outputId": "244d343f-d452-464f-f27b-d895218cdcdd"
      },
      "source": [
        "cvscores = []\n",
        "print(\"%s: %.2f%%\" % (model_ann.metrics_names[1], scores[1]*100))\n",
        "cvscores.append(scores[1] * 100)"
      ],
      "execution_count": null,
      "outputs": [
        {
          "output_type": "stream",
          "text": [
            "accuracy: 1.45%\n"
          ],
          "name": "stdout"
        }
      ]
    },
    {
      "cell_type": "markdown",
      "metadata": {
        "id": "s02ksU0I_i4u"
      },
      "source": [
        "KNN Regressor is best among all models"
      ]
    },
    {
      "cell_type": "code",
      "metadata": {
        "id": "ggbrE25b9w9H"
      },
      "source": [
        ""
      ],
      "execution_count": null,
      "outputs": []
    }
  ]
}
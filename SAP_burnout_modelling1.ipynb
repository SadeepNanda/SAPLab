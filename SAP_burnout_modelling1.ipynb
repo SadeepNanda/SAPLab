{
  "nbformat": 4,
  "nbformat_minor": 0,
  "metadata": {
    "colab": {
      "name": "SAP-burnout-modelling1.ipynb",
      "provenance": [],
      "collapsed_sections": [],
      "toc_visible": true
    },
    "kernelspec": {
      "name": "python3",
      "display_name": "Python 3"
    },
    "language_info": {
      "name": "python"
    }
  },
  "cells": [
    {
      "cell_type": "markdown",
      "metadata": {
        "id": "PxsfujDaml1J"
      },
      "source": [
        "## Notebook Description \n",
        "This notebook involves the analysis of HackerEarth employee burnout dataset to create a model for predicting the burnout rate of employees in work-from-home condition."
      ]
    },
    {
      "cell_type": "code",
      "metadata": {
        "id": "CeW4JP6YttcK",
        "colab": {
          "base_uri": "https://localhost:8080/"
        },
        "outputId": "c2fa166e-976e-4050-e3c9-56cf9ee97ddd"
      },
      "source": [
        "from google.colab import drive\n",
        "drive.mount('/content/drive')"
      ],
      "execution_count": 111,
      "outputs": [
        {
          "output_type": "stream",
          "text": [
            "Drive already mounted at /content/drive; to attempt to forcibly remount, call drive.mount(\"/content/drive\", force_remount=True).\n"
          ],
          "name": "stdout"
        }
      ]
    },
    {
      "cell_type": "code",
      "metadata": {
        "id": "DzaX_XNEWcrO"
      },
      "source": [
        "# Importing essential libraries \n",
        "import pandas as pd \n",
        "import numpy as np \n",
        "import matplotlib.pyplot as plt\n"
      ],
      "execution_count": 112,
      "outputs": []
    },
    {
      "cell_type": "code",
      "metadata": {
        "colab": {
          "base_uri": "https://localhost:8080/"
        },
        "id": "bQ_t54GeeA1G",
        "outputId": "4b92544e-359d-4e59-834d-97633b647907"
      },
      "source": [
        "# Importing datasets from drive \n",
        "df_train = pd.read_csv('/content/drive/MyDrive/SAP-burnout/train.csv')\n",
        "df_train.head()\n",
        "print(df_train.shape)"
      ],
      "execution_count": 113,
      "outputs": [
        {
          "output_type": "stream",
          "text": [
            "(22750, 9)\n"
          ],
          "name": "stdout"
        }
      ]
    },
    {
      "cell_type": "code",
      "metadata": {
        "colab": {
          "base_uri": "https://localhost:8080/",
          "height": 221
        },
        "id": "89tOuk3oejw3",
        "outputId": "df308407-be79-4839-b8ff-d24868355312"
      },
      "source": [
        "df_train.head()"
      ],
      "execution_count": 114,
      "outputs": [
        {
          "output_type": "execute_result",
          "data": {
            "text/html": [
              "<div>\n",
              "<style scoped>\n",
              "    .dataframe tbody tr th:only-of-type {\n",
              "        vertical-align: middle;\n",
              "    }\n",
              "\n",
              "    .dataframe tbody tr th {\n",
              "        vertical-align: top;\n",
              "    }\n",
              "\n",
              "    .dataframe thead th {\n",
              "        text-align: right;\n",
              "    }\n",
              "</style>\n",
              "<table border=\"1\" class=\"dataframe\">\n",
              "  <thead>\n",
              "    <tr style=\"text-align: right;\">\n",
              "      <th></th>\n",
              "      <th>Employee ID</th>\n",
              "      <th>Date of Joining</th>\n",
              "      <th>Gender</th>\n",
              "      <th>Company Type</th>\n",
              "      <th>WFH Setup Available</th>\n",
              "      <th>Designation</th>\n",
              "      <th>Resource Allocation</th>\n",
              "      <th>Mental Fatigue Score</th>\n",
              "      <th>Burn Rate</th>\n",
              "    </tr>\n",
              "  </thead>\n",
              "  <tbody>\n",
              "    <tr>\n",
              "      <th>0</th>\n",
              "      <td>fffe32003000360033003200</td>\n",
              "      <td>2008-09-30</td>\n",
              "      <td>Female</td>\n",
              "      <td>Service</td>\n",
              "      <td>No</td>\n",
              "      <td>2.0</td>\n",
              "      <td>3.0</td>\n",
              "      <td>3.8</td>\n",
              "      <td>0.16</td>\n",
              "    </tr>\n",
              "    <tr>\n",
              "      <th>1</th>\n",
              "      <td>fffe3700360033003500</td>\n",
              "      <td>2008-11-30</td>\n",
              "      <td>Male</td>\n",
              "      <td>Service</td>\n",
              "      <td>Yes</td>\n",
              "      <td>1.0</td>\n",
              "      <td>2.0</td>\n",
              "      <td>5.0</td>\n",
              "      <td>0.36</td>\n",
              "    </tr>\n",
              "    <tr>\n",
              "      <th>2</th>\n",
              "      <td>fffe31003300320037003900</td>\n",
              "      <td>2008-03-10</td>\n",
              "      <td>Female</td>\n",
              "      <td>Product</td>\n",
              "      <td>Yes</td>\n",
              "      <td>2.0</td>\n",
              "      <td>NaN</td>\n",
              "      <td>5.8</td>\n",
              "      <td>0.49</td>\n",
              "    </tr>\n",
              "    <tr>\n",
              "      <th>3</th>\n",
              "      <td>fffe32003400380032003900</td>\n",
              "      <td>2008-11-03</td>\n",
              "      <td>Male</td>\n",
              "      <td>Service</td>\n",
              "      <td>Yes</td>\n",
              "      <td>1.0</td>\n",
              "      <td>1.0</td>\n",
              "      <td>2.6</td>\n",
              "      <td>0.20</td>\n",
              "    </tr>\n",
              "    <tr>\n",
              "      <th>4</th>\n",
              "      <td>fffe31003900340031003600</td>\n",
              "      <td>2008-07-24</td>\n",
              "      <td>Female</td>\n",
              "      <td>Service</td>\n",
              "      <td>No</td>\n",
              "      <td>3.0</td>\n",
              "      <td>7.0</td>\n",
              "      <td>6.9</td>\n",
              "      <td>0.52</td>\n",
              "    </tr>\n",
              "  </tbody>\n",
              "</table>\n",
              "</div>"
            ],
            "text/plain": [
              "                Employee ID Date of Joining  ... Mental Fatigue Score Burn Rate\n",
              "0  fffe32003000360033003200      2008-09-30  ...                  3.8      0.16\n",
              "1      fffe3700360033003500      2008-11-30  ...                  5.0      0.36\n",
              "2  fffe31003300320037003900      2008-03-10  ...                  5.8      0.49\n",
              "3  fffe32003400380032003900      2008-11-03  ...                  2.6      0.20\n",
              "4  fffe31003900340031003600      2008-07-24  ...                  6.9      0.52\n",
              "\n",
              "[5 rows x 9 columns]"
            ]
          },
          "metadata": {
            "tags": []
          },
          "execution_count": 114
        }
      ]
    },
    {
      "cell_type": "markdown",
      "metadata": {
        "id": "Yn_IMhCWem62"
      },
      "source": [
        "## Dataset Description\n",
        "The following images shows the column description of the dataset.\n"
      ]
    },
    {
      "cell_type": "code",
      "metadata": {
        "colab": {
          "base_uri": "https://localhost:8080/",
          "height": 402
        },
        "id": "VId7joPditYa",
        "outputId": "5106cb5a-9640-455c-c325-33a1243df2ce"
      },
      "source": [
        "# Showing column description \n",
        "from IPython.display import Image\n",
        "Image(filename='/content/drive/MyDrive/SAP-burnout/columns_description.png')"
      ],
      "execution_count": 115,
      "outputs": [
        {
          "output_type": "execute_result",
          "data": {
            "image/png": "[encoded data removed]",
            "text/plain": [
              "<IPython.core.display.Image object>"
            ]
          },
          "metadata": {
            "tags": []
          },
          "execution_count": 115
        }
      ]
    },
    {
      "cell_type": "markdown",
      "metadata": {
        "id": "BPiO1nHgjFkU"
      },
      "source": [
        "https://www.kaggle.com/redwankarimsony/hackerearth-employee-burnout-challenge \n",
        "\n",
        "Fields which are going to be automatically filled for a user:\n",
        "  1. Employee ID\n",
        "\n",
        "Fields which are going to be entered by the user:\n",
        "  1. Date of Joining \n",
        "  2. Gender\n",
        "  3. Company Type\n",
        "  4. WFH setup available\n",
        "  5. Resource Allocation\n",
        "  6. Designation\n",
        "  7. Mental Fatigue Score(may be evaluated using other means out of the scope of modelling)"
      ]
    },
    {
      "cell_type": "code",
      "metadata": {
        "colab": {
          "base_uri": "https://localhost:8080/"
        },
        "id": "-66f_y3fn8_V",
        "outputId": "bfbb8f32-f758-4cda-bfce-050bd4adf415"
      },
      "source": [
        "# Seeing dataset details \n",
        "df_train.info()"
      ],
      "execution_count": 116,
      "outputs": [
        {
          "output_type": "stream",
          "text": [
            "<class 'pandas.core.frame.DataFrame'>\n",
            "RangeIndex: 22750 entries, 0 to 22749\n",
            "Data columns (total 9 columns):\n",
            " #   Column                Non-Null Count  Dtype  \n",
            "---  ------                --------------  -----  \n",
            " 0   Employee ID           22750 non-null  object \n",
            " 1   Date of Joining       22750 non-null  object \n",
            " 2   Gender                22750 non-null  object \n",
            " 3   Company Type          22750 non-null  object \n",
            " 4   WFH Setup Available   22750 non-null  object \n",
            " 5   Designation           22750 non-null  float64\n",
            " 6   Resource Allocation   21369 non-null  float64\n",
            " 7   Mental Fatigue Score  20633 non-null  float64\n",
            " 8   Burn Rate             21626 non-null  float64\n",
            "dtypes: float64(4), object(5)\n",
            "memory usage: 1.6+ MB\n"
          ],
          "name": "stdout"
        }
      ]
    },
    {
      "cell_type": "code",
      "metadata": {
        "id": "EkS0dDdtov2S",
        "colab": {
          "base_uri": "https://localhost:8080/"
        },
        "outputId": "2c5dfbf7-a228-48d0-f4d8-33cbb435c4df"
      },
      "source": [
        "# Seeing null values\n",
        "df_train.isna().sum()"
      ],
      "execution_count": 117,
      "outputs": [
        {
          "output_type": "execute_result",
          "data": {
            "text/plain": [
              "Employee ID                0\n",
              "Date of Joining            0\n",
              "Gender                     0\n",
              "Company Type               0\n",
              "WFH Setup Available        0\n",
              "Designation                0\n",
              "Resource Allocation     1381\n",
              "Mental Fatigue Score    2117\n",
              "Burn Rate               1124\n",
              "dtype: int64"
            ]
          },
          "metadata": {
            "tags": []
          },
          "execution_count": 117
        }
      ]
    },
    {
      "cell_type": "markdown",
      "metadata": {
        "id": "PHKcKLnOpqQz"
      },
      "source": [
        "There are null values in the fields 'Resource Allocation', 'Mental Fatigue Score' and 'Burn Rate'.\n",
        "\n",
        "After EDA, the filling of null values will be decided."
      ]
    },
    {
      "cell_type": "code",
      "metadata": {
        "colab": {
          "base_uri": "https://localhost:8080/",
          "height": 297
        },
        "id": "N7Q0JcOap7-C",
        "outputId": "82744785-540e-4098-d91f-d62030ee500d"
      },
      "source": [
        "# Seeing statistical details \n",
        "df_train.describe()"
      ],
      "execution_count": 118,
      "outputs": [
        {
          "output_type": "execute_result",
          "data": {
            "text/html": [
              "<div>\n",
              "<style scoped>\n",
              "    .dataframe tbody tr th:only-of-type {\n",
              "        vertical-align: middle;\n",
              "    }\n",
              "\n",
              "    .dataframe tbody tr th {\n",
              "        vertical-align: top;\n",
              "    }\n",
              "\n",
              "    .dataframe thead th {\n",
              "        text-align: right;\n",
              "    }\n",
              "</style>\n",
              "<table border=\"1\" class=\"dataframe\">\n",
              "  <thead>\n",
              "    <tr style=\"text-align: right;\">\n",
              "      <th></th>\n",
              "      <th>Designation</th>\n",
              "      <th>Resource Allocation</th>\n",
              "      <th>Mental Fatigue Score</th>\n",
              "      <th>Burn Rate</th>\n",
              "    </tr>\n",
              "  </thead>\n",
              "  <tbody>\n",
              "    <tr>\n",
              "      <th>count</th>\n",
              "      <td>22750.000000</td>\n",
              "      <td>21369.000000</td>\n",
              "      <td>20633.000000</td>\n",
              "      <td>21626.000000</td>\n",
              "    </tr>\n",
              "    <tr>\n",
              "      <th>mean</th>\n",
              "      <td>2.178725</td>\n",
              "      <td>4.481398</td>\n",
              "      <td>5.728188</td>\n",
              "      <td>0.452005</td>\n",
              "    </tr>\n",
              "    <tr>\n",
              "      <th>std</th>\n",
              "      <td>1.135145</td>\n",
              "      <td>2.047211</td>\n",
              "      <td>1.920839</td>\n",
              "      <td>0.198226</td>\n",
              "    </tr>\n",
              "    <tr>\n",
              "      <th>min</th>\n",
              "      <td>0.000000</td>\n",
              "      <td>1.000000</td>\n",
              "      <td>0.000000</td>\n",
              "      <td>0.000000</td>\n",
              "    </tr>\n",
              "    <tr>\n",
              "      <th>25%</th>\n",
              "      <td>1.000000</td>\n",
              "      <td>3.000000</td>\n",
              "      <td>4.600000</td>\n",
              "      <td>0.310000</td>\n",
              "    </tr>\n",
              "    <tr>\n",
              "      <th>50%</th>\n",
              "      <td>2.000000</td>\n",
              "      <td>4.000000</td>\n",
              "      <td>5.900000</td>\n",
              "      <td>0.450000</td>\n",
              "    </tr>\n",
              "    <tr>\n",
              "      <th>75%</th>\n",
              "      <td>3.000000</td>\n",
              "      <td>6.000000</td>\n",
              "      <td>7.100000</td>\n",
              "      <td>0.590000</td>\n",
              "    </tr>\n",
              "    <tr>\n",
              "      <th>max</th>\n",
              "      <td>5.000000</td>\n",
              "      <td>10.000000</td>\n",
              "      <td>10.000000</td>\n",
              "      <td>1.000000</td>\n",
              "    </tr>\n",
              "  </tbody>\n",
              "</table>\n",
              "</div>"
            ],
            "text/plain": [
              "        Designation  Resource Allocation  Mental Fatigue Score     Burn Rate\n",
              "count  22750.000000         21369.000000          20633.000000  21626.000000\n",
              "mean       2.178725             4.481398              5.728188      0.452005\n",
              "std        1.135145             2.047211              1.920839      0.198226\n",
              "min        0.000000             1.000000              0.000000      0.000000\n",
              "25%        1.000000             3.000000              4.600000      0.310000\n",
              "50%        2.000000             4.000000              5.900000      0.450000\n",
              "75%        3.000000             6.000000              7.100000      0.590000\n",
              "max        5.000000            10.000000             10.000000      1.000000"
            ]
          },
          "metadata": {
            "tags": []
          },
          "execution_count": 118
        }
      ]
    },
    {
      "cell_type": "markdown",
      "metadata": {
        "id": "2_M9kT0FqZ6x"
      },
      "source": [
        "Designation and resource allocation(provided in hours) are categorical features, hence they need to be handles as such, otherwise only mental fatigue score the target, burn rate are only numeric fields."
      ]
    },
    {
      "cell_type": "markdown",
      "metadata": {
        "id": "dfG1IDjIsJ3x"
      },
      "source": [
        "## EDA\n"
      ]
    },
    {
      "cell_type": "code",
      "metadata": {
        "colab": {
          "base_uri": "https://localhost:8080/"
        },
        "id": "2wHmgT6OtEbB",
        "outputId": "e190f8de-9b5a-4a34-e27b-a7a798fa9848"
      },
      "source": [
        "# Plotting Years in company with burnout rate\n",
        "df_train['Date of Joining']"
      ],
      "execution_count": 119,
      "outputs": [
        {
          "output_type": "execute_result",
          "data": {
            "text/plain": [
              "0        2008-09-30\n",
              "1        2008-11-30\n",
              "2        2008-03-10\n",
              "3        2008-11-03\n",
              "4        2008-07-24\n",
              "            ...    \n",
              "22745    2008-12-30\n",
              "22746    2008-01-19\n",
              "22747    2008-11-05\n",
              "22748    2008-01-10\n",
              "22749    2008-01-06\n",
              "Name: Date of Joining, Length: 22750, dtype: object"
            ]
          },
          "metadata": {
            "tags": []
          },
          "execution_count": 119
        }
      ]
    },
    {
      "cell_type": "code",
      "metadata": {
        "id": "BJFDUxP6tSsa",
        "colab": {
          "base_uri": "https://localhost:8080/"
        },
        "outputId": "d0843ca1-0683-464e-8cbd-520d0c994282"
      },
      "source": [
        "pd.to_datetime(df_train['Date of Joining'])"
      ],
      "execution_count": 120,
      "outputs": [
        {
          "output_type": "execute_result",
          "data": {
            "text/plain": [
              "0       2008-09-30\n",
              "1       2008-11-30\n",
              "2       2008-03-10\n",
              "3       2008-11-03\n",
              "4       2008-07-24\n",
              "           ...    \n",
              "22745   2008-12-30\n",
              "22746   2008-01-19\n",
              "22747   2008-11-05\n",
              "22748   2008-01-10\n",
              "22749   2008-01-06\n",
              "Name: Date of Joining, Length: 22750, dtype: datetime64[ns]"
            ]
          },
          "metadata": {
            "tags": []
          },
          "execution_count": 120
        }
      ]
    },
    {
      "cell_type": "code",
      "metadata": {
        "id": "1lIV6xM-vaMT"
      },
      "source": [
        "df_train['Date of Joining'] = pd.to_datetime(df_train['Date of Joining'])"
      ],
      "execution_count": 121,
      "outputs": []
    },
    {
      "cell_type": "code",
      "metadata": {
        "colab": {
          "base_uri": "https://localhost:8080/"
        },
        "id": "qUqMNh_YyaIx",
        "outputId": "2ef4a207-6058-4117-f5db-010f060774b2"
      },
      "source": [
        "now = pd.to_datetime('now')\n",
        "now"
      ],
      "execution_count": 122,
      "outputs": [
        {
          "output_type": "execute_result",
          "data": {
            "text/plain": [
              "Timestamp('2021-04-15 10:00:56.421966')"
            ]
          },
          "metadata": {
            "tags": []
          },
          "execution_count": 122
        }
      ]
    },
    {
      "cell_type": "code",
      "metadata": {
        "id": "9dK2UmEB0458"
      },
      "source": [
        "df_train['Experience'] = round((now - df_train['Date of Joining']).dt.total_seconds() / (60*60*24*365.25), 1)"
      ],
      "execution_count": 123,
      "outputs": []
    },
    {
      "cell_type": "code",
      "metadata": {
        "colab": {
          "base_uri": "https://localhost:8080/",
          "height": 238
        },
        "id": "03nAMhoK1WSI",
        "outputId": "e9598e52-3425-4824-b189-9c9b292ea985"
      },
      "source": [
        "df_train.head()"
      ],
      "execution_count": 124,
      "outputs": [
        {
          "output_type": "execute_result",
          "data": {
            "text/html": [
              "<div>\n",
              "<style scoped>\n",
              "    .dataframe tbody tr th:only-of-type {\n",
              "        vertical-align: middle;\n",
              "    }\n",
              "\n",
              "    .dataframe tbody tr th {\n",
              "        vertical-align: top;\n",
              "    }\n",
              "\n",
              "    .dataframe thead th {\n",
              "        text-align: right;\n",
              "    }\n",
              "</style>\n",
              "<table border=\"1\" class=\"dataframe\">\n",
              "  <thead>\n",
              "    <tr style=\"text-align: right;\">\n",
              "      <th></th>\n",
              "      <th>Employee ID</th>\n",
              "      <th>Date of Joining</th>\n",
              "      <th>Gender</th>\n",
              "      <th>Company Type</th>\n",
              "      <th>WFH Setup Available</th>\n",
              "      <th>Designation</th>\n",
              "      <th>Resource Allocation</th>\n",
              "      <th>Mental Fatigue Score</th>\n",
              "      <th>Burn Rate</th>\n",
              "      <th>Experience</th>\n",
              "    </tr>\n",
              "  </thead>\n",
              "  <tbody>\n",
              "    <tr>\n",
              "      <th>0</th>\n",
              "      <td>fffe32003000360033003200</td>\n",
              "      <td>2008-09-30</td>\n",
              "      <td>Female</td>\n",
              "      <td>Service</td>\n",
              "      <td>No</td>\n",
              "      <td>2.0</td>\n",
              "      <td>3.0</td>\n",
              "      <td>3.8</td>\n",
              "      <td>0.16</td>\n",
              "      <td>12.5</td>\n",
              "    </tr>\n",
              "    <tr>\n",
              "      <th>1</th>\n",
              "      <td>fffe3700360033003500</td>\n",
              "      <td>2008-11-30</td>\n",
              "      <td>Male</td>\n",
              "      <td>Service</td>\n",
              "      <td>Yes</td>\n",
              "      <td>1.0</td>\n",
              "      <td>2.0</td>\n",
              "      <td>5.0</td>\n",
              "      <td>0.36</td>\n",
              "      <td>12.4</td>\n",
              "    </tr>\n",
              "    <tr>\n",
              "      <th>2</th>\n",
              "      <td>fffe31003300320037003900</td>\n",
              "      <td>2008-03-10</td>\n",
              "      <td>Female</td>\n",
              "      <td>Product</td>\n",
              "      <td>Yes</td>\n",
              "      <td>2.0</td>\n",
              "      <td>NaN</td>\n",
              "      <td>5.8</td>\n",
              "      <td>0.49</td>\n",
              "      <td>13.1</td>\n",
              "    </tr>\n",
              "    <tr>\n",
              "      <th>3</th>\n",
              "      <td>fffe32003400380032003900</td>\n",
              "      <td>2008-11-03</td>\n",
              "      <td>Male</td>\n",
              "      <td>Service</td>\n",
              "      <td>Yes</td>\n",
              "      <td>1.0</td>\n",
              "      <td>1.0</td>\n",
              "      <td>2.6</td>\n",
              "      <td>0.20</td>\n",
              "      <td>12.4</td>\n",
              "    </tr>\n",
              "    <tr>\n",
              "      <th>4</th>\n",
              "      <td>fffe31003900340031003600</td>\n",
              "      <td>2008-07-24</td>\n",
              "      <td>Female</td>\n",
              "      <td>Service</td>\n",
              "      <td>No</td>\n",
              "      <td>3.0</td>\n",
              "      <td>7.0</td>\n",
              "      <td>6.9</td>\n",
              "      <td>0.52</td>\n",
              "      <td>12.7</td>\n",
              "    </tr>\n",
              "  </tbody>\n",
              "</table>\n",
              "</div>"
            ],
            "text/plain": [
              "                Employee ID Date of Joining  ... Burn Rate Experience\n",
              "0  fffe32003000360033003200      2008-09-30  ...      0.16       12.5\n",
              "1      fffe3700360033003500      2008-11-30  ...      0.36       12.4\n",
              "2  fffe31003300320037003900      2008-03-10  ...      0.49       13.1\n",
              "3  fffe32003400380032003900      2008-11-03  ...      0.20       12.4\n",
              "4  fffe31003900340031003600      2008-07-24  ...      0.52       12.7\n",
              "\n",
              "[5 rows x 10 columns]"
            ]
          },
          "metadata": {
            "tags": []
          },
          "execution_count": 124
        }
      ]
    },
    {
      "cell_type": "code",
      "metadata": {
        "id": "usgDicbj2hxI",
        "colab": {
          "base_uri": "https://localhost:8080/",
          "height": 621
        },
        "outputId": "6a6169f1-de9c-460e-d46d-e1885cff471a"
      },
      "source": [
        "# Plotting experience with burn rate \n",
        "fig, ax = plt.subplots(figsize = (10, 10))\n",
        "ax.scatter(df_train['Experience'].sample(frac=1, random_state=42).iloc[:500], \n",
        "           df_train['Burn Rate'].sample(frac=1, random_state=42).iloc[:500],\n",
        "           color = 'salmon')\n",
        "ax.set(title = 'Relation between experience and burn rate',\n",
        "       xlabel = 'Experience',\n",
        "       ylabel = 'Burn Rate');"
      ],
      "execution_count": 125,
      "outputs": [
        {
          "output_type": "display_data",
          "data": {
            "image/png": "[encoded data removed]",
            "text/plain": [
              "<Figure size 720x720 with 1 Axes>"
            ]
          },
          "metadata": {
            "tags": [],
            "needs_background": "light"
          }
        }
      ]
    },
    {
      "cell_type": "markdown",
      "metadata": {
        "id": "zVtrFkH33Mrg"
      },
      "source": [
        "The plot shows that the burn rate usually lies between 0.2 and 0.8 irrespective of experience. Also, burnout rate increases a bit between 12.6 - 13.0 years of experience, not going below 0.2 for this group."
      ]
    },
    {
      "cell_type": "code",
      "metadata": {
        "colab": {
          "base_uri": "https://localhost:8080/",
          "height": 456
        },
        "id": "Lk3WzgC873KY",
        "outputId": "fb419d2e-815e-402f-cd4a-1054510fa8d1"
      },
      "source": [
        "# Distribution of company type \n",
        "plt.figure(figsize=(7,7))\n",
        "df_train['Company Type'].value_counts().plot.bar()\n",
        "plt.show()"
      ],
      "execution_count": 126,
      "outputs": [
        {
          "output_type": "display_data",
          "data": {
            "image/png": "[encoded data removed]",
            "text/plain": [
              "<Figure size 504x504 with 1 Axes>"
            ]
          },
          "metadata": {
            "tags": [],
            "needs_background": "light"
          }
        }
      ]
    },
    {
      "cell_type": "markdown",
      "metadata": {
        "id": "C1nDjHU289r2"
      },
      "source": [
        "An overwhelming number of employees most work in service sector, rather than in product sector. This will give us more clarity on its impact in burn rate."
      ]
    },
    {
      "cell_type": "code",
      "metadata": {
        "colab": {
          "base_uri": "https://localhost:8080/"
        },
        "id": "6IF_H-8gr8Nt",
        "outputId": "3507ba11-79ad-4996-cd0b-e0c5e9547d17"
      },
      "source": [
        "df_train['Experience'][df_train['Company Type']=='Service']"
      ],
      "execution_count": 127,
      "outputs": [
        {
          "output_type": "execute_result",
          "data": {
            "text/plain": [
              "0        12.5\n",
              "1        12.4\n",
              "3        12.4\n",
              "4        12.7\n",
              "6        13.3\n",
              "         ... \n",
              "22738    12.3\n",
              "22739    13.2\n",
              "22745    12.3\n",
              "22747    12.4\n",
              "22748    13.3\n",
              "Name: Experience, Length: 14833, dtype: float64"
            ]
          },
          "metadata": {
            "tags": []
          },
          "execution_count": 127
        }
      ]
    },
    {
      "cell_type": "code",
      "metadata": {
        "colab": {
          "base_uri": "https://localhost:8080/",
          "height": 458
        },
        "id": "XKv5ZywA-BPZ",
        "outputId": "4ab30657-7926-42ad-dc61-624405866ccf"
      },
      "source": [
        "# Burn rate and experience w.r.t. company type\n",
        "fig, ax = plt.subplots(figsize=(7,7))\n",
        "ax.scatter(df_train['Experience'][df_train['Company Type']=='Service'].sample(frac=1, random_state=42).iloc[:250],\n",
        "           df_train['Burn Rate'][df_train['Company Type']=='Service'].sample(frac=1, random_state=42).iloc[:250],\n",
        "           color='lightgreen', label = 'Service')\n",
        "ax.scatter(df_train['Experience'][df_train['Company Type']=='Product'].sample(frac=1, random_state=42).iloc[:250],\n",
        "           df_train['Burn Rate'][df_train['Company Type']=='Product'].sample(frac=1, random_state=42).iloc[:250],\n",
        "           color='salmon', label = 'Product')\n",
        "ax.set(title = 'Relation between Experience and Burn Rate w.r.t. company',\n",
        "       xlabel = 'Experience in years',\n",
        "       ylabel = 'Burn rate')\n",
        "ax.legend();"
      ],
      "execution_count": 128,
      "outputs": [
        {
          "output_type": "display_data",
          "data": {
            "image/png": "[encoded data removed]",
            "text/plain": [
              "<Figure size 504x504 with 1 Axes>"
            ]
          },
          "metadata": {
            "tags": [],
            "needs_background": "light"
          }
        }
      ]
    },
    {
      "cell_type": "markdown",
      "metadata": {
        "id": "6p7aZDdqsqgf"
      },
      "source": [
        "The plot shows that people employed in the service sector and with more experience are more vulnerable to burnout. Also, the product sector inhabits the lower burnout region densely.\n",
        "\n",
        "This shows that service sector employees are more prone to burnout."
      ]
    },
    {
      "cell_type": "code",
      "metadata": {
        "colab": {
          "base_uri": "https://localhost:8080/",
          "height": 455
        },
        "id": "SpTauxuNvDJl",
        "outputId": "394252b7-19de-48c6-bfaa-c873a54ca521"
      },
      "source": [
        "# Gender distribution \n",
        "plt.figure(figsize=(7,7))\n",
        "df_train['Gender'].value_counts().plot.bar(color=['springgreen', 'orangered'])\n",
        "plt.show()"
      ],
      "execution_count": 129,
      "outputs": [
        {
          "output_type": "display_data",
          "data": {
            "image/png": "[encoded data removed]",
            "text/plain": [
              "<Figure size 504x504 with 1 Axes>"
            ]
          },
          "metadata": {
            "tags": [],
            "needs_background": "light"
          }
        }
      ]
    },
    {
      "cell_type": "markdown",
      "metadata": {
        "id": "lBMXQqA5vmql"
      },
      "source": [
        "The plot shows that there are slightly more women than men in the workplace, let's try to get a more deep insight on how gender affects burn rate."
      ]
    },
    {
      "cell_type": "code",
      "metadata": {
        "colab": {
          "base_uri": "https://localhost:8080/",
          "height": 322
        },
        "id": "4DYq3lR7xIfd",
        "outputId": "9d1c2ae6-bce2-40f8-a62e-fb4f32ca2d92"
      },
      "source": [
        "# Making a cross distribution of gender and company type\n",
        "plt.figure(figsize=(7,7))\n",
        "pd.crosstab(df_train['Gender'], df_train['Company Type']).plot.bar()\n",
        "plt.legend(loc='upper left')\n",
        "plt.show()"
      ],
      "execution_count": 130,
      "outputs": [
        {
          "output_type": "display_data",
          "data": {
            "text/plain": [
              "<Figure size 504x504 with 0 Axes>"
            ]
          },
          "metadata": {
            "tags": []
          }
        },
        {
          "output_type": "display_data",
          "data": {
            "image/png": "[encoded data removed]",
            "text/plain": [
              "<Figure size 432x288 with 1 Axes>"
            ]
          },
          "metadata": {
            "tags": [],
            "needs_background": "light"
          }
        }
      ]
    },
    {
      "cell_type": "markdown",
      "metadata": {
        "id": "jT-x97ikxWBb"
      },
      "source": [
        "The plot shows that an almost same ratio of male and female employees are split between service and ratio."
      ]
    },
    {
      "cell_type": "code",
      "metadata": {
        "colab": {
          "base_uri": "https://localhost:8080/",
          "height": 400
        },
        "id": "0usz2SWV1dtY",
        "outputId": "dfd7ad17-45c3-418c-f38c-e5367e47529d"
      },
      "source": [
        "# Using seaborn for plotting categorical plots \n",
        "import seaborn as sns\n",
        "small_df = df_train.sample(500, random_state=42)\n",
        "plt.figure(figsize=(7,7))\n",
        "sns.catplot(x='Gender', y='Burn Rate', hue='Company Type', data=small_df)\n",
        "plt.show()"
      ],
      "execution_count": 131,
      "outputs": [
        {
          "output_type": "display_data",
          "data": {
            "text/plain": [
              "<Figure size 504x504 with 0 Axes>"
            ]
          },
          "metadata": {
            "tags": []
          }
        },
        {
          "output_type": "display_data",
          "data": {
            "image/png": "[encoded data removed]",
            "text/plain": [
              "<Figure size 441x360 with 1 Axes>"
            ]
          },
          "metadata": {
            "tags": [],
            "needs_background": "light"
          }
        }
      ]
    },
    {
      "cell_type": "markdown",
      "metadata": {
        "id": "QgcA6IQs18vz"
      },
      "source": [
        "The plot shows that among the men in product sector the burn rate is higher, while the burn rate being clearly high in service sector employees."
      ]
    },
    {
      "cell_type": "code",
      "metadata": {
        "id": "99gqt4xp4BKU",
        "colab": {
          "base_uri": "https://localhost:8080/",
          "height": 238
        },
        "outputId": "29cc21d4-6777-4acd-c39f-3ebc6cb22799"
      },
      "source": [
        " df_train.head()"
      ],
      "execution_count": 132,
      "outputs": [
        {
          "output_type": "execute_result",
          "data": {
            "text/html": [
              "<div>\n",
              "<style scoped>\n",
              "    .dataframe tbody tr th:only-of-type {\n",
              "        vertical-align: middle;\n",
              "    }\n",
              "\n",
              "    .dataframe tbody tr th {\n",
              "        vertical-align: top;\n",
              "    }\n",
              "\n",
              "    .dataframe thead th {\n",
              "        text-align: right;\n",
              "    }\n",
              "</style>\n",
              "<table border=\"1\" class=\"dataframe\">\n",
              "  <thead>\n",
              "    <tr style=\"text-align: right;\">\n",
              "      <th></th>\n",
              "      <th>Employee ID</th>\n",
              "      <th>Date of Joining</th>\n",
              "      <th>Gender</th>\n",
              "      <th>Company Type</th>\n",
              "      <th>WFH Setup Available</th>\n",
              "      <th>Designation</th>\n",
              "      <th>Resource Allocation</th>\n",
              "      <th>Mental Fatigue Score</th>\n",
              "      <th>Burn Rate</th>\n",
              "      <th>Experience</th>\n",
              "    </tr>\n",
              "  </thead>\n",
              "  <tbody>\n",
              "    <tr>\n",
              "      <th>0</th>\n",
              "      <td>fffe32003000360033003200</td>\n",
              "      <td>2008-09-30</td>\n",
              "      <td>Female</td>\n",
              "      <td>Service</td>\n",
              "      <td>No</td>\n",
              "      <td>2.0</td>\n",
              "      <td>3.0</td>\n",
              "      <td>3.8</td>\n",
              "      <td>0.16</td>\n",
              "      <td>12.5</td>\n",
              "    </tr>\n",
              "    <tr>\n",
              "      <th>1</th>\n",
              "      <td>fffe3700360033003500</td>\n",
              "      <td>2008-11-30</td>\n",
              "      <td>Male</td>\n",
              "      <td>Service</td>\n",
              "      <td>Yes</td>\n",
              "      <td>1.0</td>\n",
              "      <td>2.0</td>\n",
              "      <td>5.0</td>\n",
              "      <td>0.36</td>\n",
              "      <td>12.4</td>\n",
              "    </tr>\n",
              "    <tr>\n",
              "      <th>2</th>\n",
              "      <td>fffe31003300320037003900</td>\n",
              "      <td>2008-03-10</td>\n",
              "      <td>Female</td>\n",
              "      <td>Product</td>\n",
              "      <td>Yes</td>\n",
              "      <td>2.0</td>\n",
              "      <td>NaN</td>\n",
              "      <td>5.8</td>\n",
              "      <td>0.49</td>\n",
              "      <td>13.1</td>\n",
              "    </tr>\n",
              "    <tr>\n",
              "      <th>3</th>\n",
              "      <td>fffe32003400380032003900</td>\n",
              "      <td>2008-11-03</td>\n",
              "      <td>Male</td>\n",
              "      <td>Service</td>\n",
              "      <td>Yes</td>\n",
              "      <td>1.0</td>\n",
              "      <td>1.0</td>\n",
              "      <td>2.6</td>\n",
              "      <td>0.20</td>\n",
              "      <td>12.4</td>\n",
              "    </tr>\n",
              "    <tr>\n",
              "      <th>4</th>\n",
              "      <td>fffe31003900340031003600</td>\n",
              "      <td>2008-07-24</td>\n",
              "      <td>Female</td>\n",
              "      <td>Service</td>\n",
              "      <td>No</td>\n",
              "      <td>3.0</td>\n",
              "      <td>7.0</td>\n",
              "      <td>6.9</td>\n",
              "      <td>0.52</td>\n",
              "      <td>12.7</td>\n",
              "    </tr>\n",
              "  </tbody>\n",
              "</table>\n",
              "</div>"
            ],
            "text/plain": [
              "                Employee ID Date of Joining  ... Burn Rate Experience\n",
              "0  fffe32003000360033003200      2008-09-30  ...      0.16       12.5\n",
              "1      fffe3700360033003500      2008-11-30  ...      0.36       12.4\n",
              "2  fffe31003300320037003900      2008-03-10  ...      0.49       13.1\n",
              "3  fffe32003400380032003900      2008-11-03  ...      0.20       12.4\n",
              "4  fffe31003900340031003600      2008-07-24  ...      0.52       12.7\n",
              "\n",
              "[5 rows x 10 columns]"
            ]
          },
          "metadata": {
            "tags": []
          },
          "execution_count": 132
        }
      ]
    },
    {
      "cell_type": "code",
      "metadata": {
        "colab": {
          "base_uri": "https://localhost:8080/",
          "height": 322
        },
        "id": "8JfBFL40bTWU",
        "outputId": "ff79e1ab-9410-47f6-ad4a-538f3370304d"
      },
      "source": [
        "# Plotting wfh setup and gender \n",
        "plt.figure(figsize=(7,7))\n",
        "pd.crosstab(df_train['Gender'], df_train['WFH Setup Available']).plot.bar()\n",
        "plt.show()"
      ],
      "execution_count": 133,
      "outputs": [
        {
          "output_type": "display_data",
          "data": {
            "text/plain": [
              "<Figure size 504x504 with 0 Axes>"
            ]
          },
          "metadata": {
            "tags": []
          }
        },
        {
          "output_type": "display_data",
          "data": {
            "image/png": "[encoded data removed]",
            "text/plain": [
              "<Figure size 432x288 with 1 Axes>"
            ]
          },
          "metadata": {
            "tags": [],
            "needs_background": "light"
          }
        }
      ]
    },
    {
      "cell_type": "markdown",
      "metadata": {
        "id": "cm235A-rbsMN"
      },
      "source": [
        "More females have work-from-home setup arranged whereas an equal number of males have and don't have work-from-home setup."
      ]
    },
    {
      "cell_type": "code",
      "metadata": {
        "colab": {
          "base_uri": "https://localhost:8080/",
          "height": 400
        },
        "id": "VLBpHi3tcBBB",
        "outputId": "2eb5d205-d8a8-4cf0-eb74-2c5db3fa1b67"
      },
      "source": [
        "small_df = df_train.sample(500, random_state=42)\n",
        "plt.figure(figsize=(7,7))\n",
        "sns.catplot(x='Gender', y='Burn Rate', hue='WFH Setup Available', data=small_df)\n",
        "plt.show()"
      ],
      "execution_count": 134,
      "outputs": [
        {
          "output_type": "display_data",
          "data": {
            "text/plain": [
              "<Figure size 504x504 with 0 Axes>"
            ]
          },
          "metadata": {
            "tags": []
          }
        },
        {
          "output_type": "display_data",
          "data": {
            "image/png": "[encoded data removed]",
            "text/plain": [
              "<Figure size 471.625x360 with 1 Axes>"
            ]
          },
          "metadata": {
            "tags": [],
            "needs_background": "light"
          }
        }
      ]
    },
    {
      "cell_type": "markdown",
      "metadata": {
        "id": "LgjaQ-JmcNA1"
      },
      "source": [
        "This is clear that employees who don't have work from home setup available are more prone to burn out."
      ]
    },
    {
      "cell_type": "code",
      "metadata": {
        "colab": {
          "base_uri": "https://localhost:8080/",
          "height": 458
        },
        "id": "qWPkUJ8lcuwr",
        "outputId": "7935a1e7-7a66-47ff-a956-c9327051df64"
      },
      "source": [
        "# Plotting mental fatigue score with burn rate \n",
        "fig, ax = plt.subplots(figsize=(7,7))\n",
        "ax.scatter(df_train['Mental Fatigue Score'][df_train['WFH Setup Available']=='Yes'].sample(frac=1, random_state=42).iloc[:250],\n",
        "           df_train['Burn Rate'][df_train['WFH Setup Available']=='Yes'].sample(frac=1, random_state=42).iloc[:250],\n",
        "           color = 'crimson', label='Yes', marker='x')\n",
        "ax.scatter(df_train['Mental Fatigue Score'][df_train['WFH Setup Available']=='No'].sample(frac=1, random_state=42).iloc[:250],\n",
        "           df_train['Burn Rate'][df_train['WFH Setup Available']=='No'].sample(frac=1, random_state=42).iloc[:250],\n",
        "           color = 'lightseagreen', label='No', marker='x')\n",
        "ax.set(title = 'Relation between Experience and Burn Rate w.r.t. company',\n",
        "       xlabel = 'Mental Fatigue Score',\n",
        "       ylabel = 'Burn rate')\n",
        "ax.legend();"
      ],
      "execution_count": 135,
      "outputs": [
        {
          "output_type": "display_data",
          "data": {
            "image/png": "[encoded data removed]",
            "text/plain": [
              "<Figure size 504x504 with 1 Axes>"
            ]
          },
          "metadata": {
            "tags": [],
            "needs_background": "light"
          }
        }
      ]
    },
    {
      "cell_type": "markdown",
      "metadata": {
        "id": "KIoVSOA8eZEx"
      },
      "source": [
        "This shows that mental fatigue score is directly proportional to burn rate and those who don't have wfh setup have higer mental fatigue score and higher burn rate."
      ]
    },
    {
      "cell_type": "code",
      "metadata": {
        "colab": {
          "base_uri": "https://localhost:8080/",
          "height": 458
        },
        "id": "_WOLjtAHgGEz",
        "outputId": "4d32e77b-cae2-4156-b0ed-8a9121e1b804"
      },
      "source": [
        "# Plotting wfh designation and resource allocation\n",
        "fig, ax = plt.subplots(figsize=(7,7))\n",
        "ax.scatter(df_train['Resource Allocation'].sample(frac=1, random_state=42).iloc[:500],\n",
        "           df_train['Designation'].sample(frac=1, random_state=42).iloc[:500])\n",
        "ax.set(title='Designation and Resource Allocation',\n",
        "       xlabel='Resource Allocation',\n",
        "       ylabel='Designation');"
      ],
      "execution_count": 136,
      "outputs": [
        {
          "output_type": "display_data",
          "data": {
            "image/png": "[encoded data removed]",
            "text/plain": [
              "<Figure size 504x504 with 1 Axes>"
            ]
          },
          "metadata": {
            "tags": [],
            "needs_background": "light"
          }
        }
      ]
    },
    {
      "cell_type": "markdown",
      "metadata": {
        "id": "D9ChKIoJgtbt"
      },
      "source": [
        "The plot shows that higher the designation, higher are the hours allocated per day."
      ]
    },
    {
      "cell_type": "code",
      "metadata": {
        "colab": {
          "base_uri": "https://localhost:8080/",
          "height": 400
        },
        "id": "yvfrhfPYigRw",
        "outputId": "f384dc16-a0d8-4c29-89dd-cef7536f8c60"
      },
      "source": [
        "# Plot showing relation of resource allocation and burn rate w.r.t. designation\n",
        "plt.figure(figsize=(7,7))\n",
        "sns.catplot(x='Resource Allocation', y='Burn Rate', hue='Designation', data=small_df)\n",
        "plt.show()"
      ],
      "execution_count": 137,
      "outputs": [
        {
          "output_type": "display_data",
          "data": {
            "text/plain": [
              "<Figure size 504x504 with 0 Axes>"
            ]
          },
          "metadata": {
            "tags": []
          }
        },
        {
          "output_type": "display_data",
          "data": {
            "image/png": "[encoded data removed]",
            "text/plain": [
              "<Figure size 428x360 with 1 Axes>"
            ]
          },
          "metadata": {
            "tags": [],
            "needs_background": "light"
          }
        }
      ]
    },
    {
      "cell_type": "markdown",
      "metadata": {
        "id": "8MU0q7C5i57F"
      },
      "source": [
        "The plot shows that employees who have higher positions and give more time on their job are suffering from significantly higher burn rates."
      ]
    },
    {
      "cell_type": "code",
      "metadata": {
        "colab": {
          "base_uri": "https://localhost:8080/",
          "height": 400
        },
        "id": "3kRmkL5Kjzvr",
        "outputId": "99394b48-b0f1-4f5d-b7d6-b9e14231e718"
      },
      "source": [
        "# Plotting mental fatigue score with burn rate \n",
        "plt.figure(figsize=(8,8))\n",
        "sns.catplot(x='Designation', y='Burn Rate', hue='WFH Setup Available', data = small_df)\n",
        "plt.show();"
      ],
      "execution_count": 138,
      "outputs": [
        {
          "output_type": "display_data",
          "data": {
            "text/plain": [
              "<Figure size 576x576 with 0 Axes>"
            ]
          },
          "metadata": {
            "tags": []
          }
        },
        {
          "output_type": "display_data",
          "data": {
            "image/png": "[encoded data removed]",
            "text/plain": [
              "<Figure size 471.625x360 with 1 Axes>"
            ]
          },
          "metadata": {
            "tags": [],
            "needs_background": "light"
          }
        }
      ]
    },
    {
      "cell_type": "markdown",
      "metadata": {
        "id": "5phm_eUfkL85"
      },
      "source": [
        "It is seen in the plot that those who don't have WHF setup available in every designation level are more prone to burn out."
      ]
    },
    {
      "cell_type": "markdown",
      "metadata": {
        "id": "YHrBcaQWlFqd"
      },
      "source": [
        "Now, the EDA part is over. Let's summarize by writing some points about the dataset:\n",
        "\n",
        "\n",
        "1.   Irrespective of gender, employees in service sector are prone to higher burn rates.\n",
        "2.   Employees with higher mental fatigue scores are having proportinally higher burn rates.\n",
        "3.   Employees at higher designation allocate more resources and hence have higher burn rate.\n",
        "4.   At every level of designation and resource allocation, employees who don't have WFH setup available are suffering from higher burn rates.\n",
        "\n",
        "Let's see the correlation matrix to see correlations between fields."
      ]
    },
    {
      "cell_type": "code",
      "metadata": {
        "colab": {
          "base_uri": "https://localhost:8080/",
          "height": 145
        },
        "id": "SV9W6Zi_nHwG",
        "outputId": "8c3fcf78-56e6-4fdf-8725-b54d1311e099"
      },
      "source": [
        "# Plotting correlation matrix\n",
        "corr = df_train.corr()\n",
        "corr.style.background_gradient(cmap='coolwarm')"
      ],
      "execution_count": 139,
      "outputs": [
        {
          "output_type": "execute_result",
          "data": {
            "text/html": [
              "<style  type=\"text/css\" >\n",
              "#T_7bfdd1da_9dd1_11eb_bc34_0242ac1c0002row0_col0,#T_7bfdd1da_9dd1_11eb_bc34_0242ac1c0002row1_col1,#T_7bfdd1da_9dd1_11eb_bc34_0242ac1c0002row2_col2,#T_7bfdd1da_9dd1_11eb_bc34_0242ac1c0002row3_col3,#T_7bfdd1da_9dd1_11eb_bc34_0242ac1c0002row4_col4{\n",
              "            background-color:  #b40426;\n",
              "            color:  #f1f1f1;\n",
              "        }#T_7bfdd1da_9dd1_11eb_bc34_0242ac1c0002row0_col1,#T_7bfdd1da_9dd1_11eb_bc34_0242ac1c0002row1_col0{\n",
              "            background-color:  #dd5f4b;\n",
              "            color:  #000000;\n",
              "        }#T_7bfdd1da_9dd1_11eb_bc34_0242ac1c0002row0_col2{\n",
              "            background-color:  #f7af91;\n",
              "            color:  #000000;\n",
              "        }#T_7bfdd1da_9dd1_11eb_bc34_0242ac1c0002row0_col3,#T_7bfdd1da_9dd1_11eb_bc34_0242ac1c0002row3_col0{\n",
              "            background-color:  #f59f80;\n",
              "            color:  #000000;\n",
              "        }#T_7bfdd1da_9dd1_11eb_bc34_0242ac1c0002row0_col4,#T_7bfdd1da_9dd1_11eb_bc34_0242ac1c0002row1_col4,#T_7bfdd1da_9dd1_11eb_bc34_0242ac1c0002row3_col4{\n",
              "            background-color:  #3c4ec2;\n",
              "            color:  #f1f1f1;\n",
              "        }#T_7bfdd1da_9dd1_11eb_bc34_0242ac1c0002row1_col2,#T_7bfdd1da_9dd1_11eb_bc34_0242ac1c0002row2_col1{\n",
              "            background-color:  #ee8468;\n",
              "            color:  #000000;\n",
              "        }#T_7bfdd1da_9dd1_11eb_bc34_0242ac1c0002row1_col3,#T_7bfdd1da_9dd1_11eb_bc34_0242ac1c0002row3_col1{\n",
              "            background-color:  #e26952;\n",
              "            color:  #000000;\n",
              "        }#T_7bfdd1da_9dd1_11eb_bc34_0242ac1c0002row2_col0{\n",
              "            background-color:  #f7b093;\n",
              "            color:  #000000;\n",
              "        }#T_7bfdd1da_9dd1_11eb_bc34_0242ac1c0002row2_col3,#T_7bfdd1da_9dd1_11eb_bc34_0242ac1c0002row3_col2{\n",
              "            background-color:  #c83836;\n",
              "            color:  #f1f1f1;\n",
              "        }#T_7bfdd1da_9dd1_11eb_bc34_0242ac1c0002row2_col4,#T_7bfdd1da_9dd1_11eb_bc34_0242ac1c0002row4_col0,#T_7bfdd1da_9dd1_11eb_bc34_0242ac1c0002row4_col1,#T_7bfdd1da_9dd1_11eb_bc34_0242ac1c0002row4_col2,#T_7bfdd1da_9dd1_11eb_bc34_0242ac1c0002row4_col3{\n",
              "            background-color:  #3b4cc0;\n",
              "            color:  #f1f1f1;\n",
              "        }</style><table id=\"T_7bfdd1da_9dd1_11eb_bc34_0242ac1c0002\" ><thead>    <tr>        <th class=\"blank level0\" ></th>        <th class=\"col_heading level0 col0\" >Designation</th>        <th class=\"col_heading level0 col1\" >Resource Allocation</th>        <th class=\"col_heading level0 col2\" >Mental Fatigue Score</th>        <th class=\"col_heading level0 col3\" >Burn Rate</th>        <th class=\"col_heading level0 col4\" >Experience</th>    </tr></thead><tbody>\n",
              "                <tr>\n",
              "                        <th id=\"T_7bfdd1da_9dd1_11eb_bc34_0242ac1c0002level0_row0\" class=\"row_heading level0 row0\" >Designation</th>\n",
              "                        <td id=\"T_7bfdd1da_9dd1_11eb_bc34_0242ac1c0002row0_col0\" class=\"data row0 col0\" >1.000000</td>\n",
              "                        <td id=\"T_7bfdd1da_9dd1_11eb_bc34_0242ac1c0002row0_col1\" class=\"data row0 col1\" >0.878459</td>\n",
              "                        <td id=\"T_7bfdd1da_9dd1_11eb_bc34_0242ac1c0002row0_col2\" class=\"data row0 col2\" >0.690983</td>\n",
              "                        <td id=\"T_7bfdd1da_9dd1_11eb_bc34_0242ac1c0002row0_col3\" class=\"data row0 col3\" >0.737556</td>\n",
              "                        <td id=\"T_7bfdd1da_9dd1_11eb_bc34_0242ac1c0002row0_col4\" class=\"data row0 col4\" >0.001371</td>\n",
              "            </tr>\n",
              "            <tr>\n",
              "                        <th id=\"T_7bfdd1da_9dd1_11eb_bc34_0242ac1c0002level0_row1\" class=\"row_heading level0 row1\" >Resource Allocation</th>\n",
              "                        <td id=\"T_7bfdd1da_9dd1_11eb_bc34_0242ac1c0002row1_col0\" class=\"data row1 col0\" >0.878459</td>\n",
              "                        <td id=\"T_7bfdd1da_9dd1_11eb_bc34_0242ac1c0002row1_col1\" class=\"data row1 col1\" >1.000000</td>\n",
              "                        <td id=\"T_7bfdd1da_9dd1_11eb_bc34_0242ac1c0002row1_col2\" class=\"data row1 col2\" >0.799662</td>\n",
              "                        <td id=\"T_7bfdd1da_9dd1_11eb_bc34_0242ac1c0002row1_col3\" class=\"data row1 col3\" >0.856278</td>\n",
              "                        <td id=\"T_7bfdd1da_9dd1_11eb_bc34_0242ac1c0002row1_col4\" class=\"data row1 col4\" >0.000478</td>\n",
              "            </tr>\n",
              "            <tr>\n",
              "                        <th id=\"T_7bfdd1da_9dd1_11eb_bc34_0242ac1c0002level0_row2\" class=\"row_heading level0 row2\" >Mental Fatigue Score</th>\n",
              "                        <td id=\"T_7bfdd1da_9dd1_11eb_bc34_0242ac1c0002row2_col0\" class=\"data row2 col0\" >0.690983</td>\n",
              "                        <td id=\"T_7bfdd1da_9dd1_11eb_bc34_0242ac1c0002row2_col1\" class=\"data row2 col1\" >0.799662</td>\n",
              "                        <td id=\"T_7bfdd1da_9dd1_11eb_bc34_0242ac1c0002row2_col2\" class=\"data row2 col2\" >1.000000</td>\n",
              "                        <td id=\"T_7bfdd1da_9dd1_11eb_bc34_0242ac1c0002row2_col3\" class=\"data row2 col3\" >0.944546</td>\n",
              "                        <td id=\"T_7bfdd1da_9dd1_11eb_bc34_0242ac1c0002row2_col4\" class=\"data row2 col4\" >-0.003483</td>\n",
              "            </tr>\n",
              "            <tr>\n",
              "                        <th id=\"T_7bfdd1da_9dd1_11eb_bc34_0242ac1c0002level0_row3\" class=\"row_heading level0 row3\" >Burn Rate</th>\n",
              "                        <td id=\"T_7bfdd1da_9dd1_11eb_bc34_0242ac1c0002row3_col0\" class=\"data row3 col0\" >0.737556</td>\n",
              "                        <td id=\"T_7bfdd1da_9dd1_11eb_bc34_0242ac1c0002row3_col1\" class=\"data row3 col1\" >0.856278</td>\n",
              "                        <td id=\"T_7bfdd1da_9dd1_11eb_bc34_0242ac1c0002row3_col2\" class=\"data row3 col2\" >0.944546</td>\n",
              "                        <td id=\"T_7bfdd1da_9dd1_11eb_bc34_0242ac1c0002row3_col3\" class=\"data row3 col3\" >1.000000</td>\n",
              "                        <td id=\"T_7bfdd1da_9dd1_11eb_bc34_0242ac1c0002row3_col4\" class=\"data row3 col4\" >0.001123</td>\n",
              "            </tr>\n",
              "            <tr>\n",
              "                        <th id=\"T_7bfdd1da_9dd1_11eb_bc34_0242ac1c0002level0_row4\" class=\"row_heading level0 row4\" >Experience</th>\n",
              "                        <td id=\"T_7bfdd1da_9dd1_11eb_bc34_0242ac1c0002row4_col0\" class=\"data row4 col0\" >0.001371</td>\n",
              "                        <td id=\"T_7bfdd1da_9dd1_11eb_bc34_0242ac1c0002row4_col1\" class=\"data row4 col1\" >0.000478</td>\n",
              "                        <td id=\"T_7bfdd1da_9dd1_11eb_bc34_0242ac1c0002row4_col2\" class=\"data row4 col2\" >-0.003483</td>\n",
              "                        <td id=\"T_7bfdd1da_9dd1_11eb_bc34_0242ac1c0002row4_col3\" class=\"data row4 col3\" >0.001123</td>\n",
              "                        <td id=\"T_7bfdd1da_9dd1_11eb_bc34_0242ac1c0002row4_col4\" class=\"data row4 col4\" >1.000000</td>\n",
              "            </tr>\n",
              "    </tbody></table>"
            ],
            "text/plain": [
              "<pandas.io.formats.style.Styler at 0x7fe202504b10>"
            ]
          },
          "metadata": {
            "tags": []
          },
          "execution_count": 139
        }
      ]
    },
    {
      "cell_type": "markdown",
      "metadata": {
        "id": "Qzq8vfEunaAi"
      },
      "source": [
        "## Modelling \n",
        "Now, its time to start preprocessing and creating a prediction model pipeline."
      ]
    },
    {
      "cell_type": "code",
      "metadata": {
        "colab": {
          "base_uri": "https://localhost:8080/"
        },
        "id": "Zl04789Tn-F0",
        "outputId": "1ecfe726-d9ba-4591-e058-ac5d6ab9fad9"
      },
      "source": [
        "# Shape of dataframe\n",
        "print(df_train.shape)\n",
        "print(df_train.columns)"
      ],
      "execution_count": 140,
      "outputs": [
        {
          "output_type": "stream",
          "text": [
            "(22750, 10)\n",
            "Index(['Employee ID', 'Date of Joining', 'Gender', 'Company Type',\n",
            "       'WFH Setup Available', 'Designation', 'Resource Allocation',\n",
            "       'Mental Fatigue Score', 'Burn Rate', 'Experience'],\n",
            "      dtype='object')\n"
          ],
          "name": "stdout"
        }
      ]
    },
    {
      "cell_type": "code",
      "metadata": {
        "id": "-i-Q3z9hoGWq"
      },
      "source": [
        "# Columns to be removed, 'Employee id', 'Date of joining' and 'Experience'\n",
        "df_train.drop(['Employee ID', 'Date of Joining', 'Experience'], axis=1, inplace=True)"
      ],
      "execution_count": 141,
      "outputs": []
    },
    {
      "cell_type": "code",
      "metadata": {
        "colab": {
          "base_uri": "https://localhost:8080/"
        },
        "id": "1xnByoiNoiz1",
        "outputId": "a6730431-cc7f-470a-eaf6-932350819cbd"
      },
      "source": [
        "df_train.shape"
      ],
      "execution_count": 142,
      "outputs": [
        {
          "output_type": "execute_result",
          "data": {
            "text/plain": [
              "(22750, 7)"
            ]
          },
          "metadata": {
            "tags": []
          },
          "execution_count": 142
        }
      ]
    },
    {
      "cell_type": "code",
      "metadata": {
        "colab": {
          "base_uri": "https://localhost:8080/"
        },
        "id": "SJf5MTOvomIV",
        "outputId": "40aad66b-a5ec-4779-e559-83edaca510c4"
      },
      "source": [
        "# Filling null values \n",
        "df_train.isna().sum()"
      ],
      "execution_count": 143,
      "outputs": [
        {
          "output_type": "execute_result",
          "data": {
            "text/plain": [
              "Gender                     0\n",
              "Company Type               0\n",
              "WFH Setup Available        0\n",
              "Designation                0\n",
              "Resource Allocation     1381\n",
              "Mental Fatigue Score    2117\n",
              "Burn Rate               1124\n",
              "dtype: int64"
            ]
          },
          "metadata": {
            "tags": []
          },
          "execution_count": 143
        }
      ]
    },
    {
      "cell_type": "markdown",
      "metadata": {
        "id": "TGKgF2FmoxO0"
      },
      "source": [
        "Since knowing the burn rate is very important, there is not point in having rows which don't have burn rate."
      ]
    },
    {
      "cell_type": "code",
      "metadata": {
        "colab": {
          "base_uri": "https://localhost:8080/"
        },
        "id": "0m3XoKjip3o9",
        "outputId": "064d0ba5-ea5a-4c58-ea04-625a534372d3"
      },
      "source": [
        "df_train['Resource Allocation'].median()"
      ],
      "execution_count": 144,
      "outputs": [
        {
          "output_type": "execute_result",
          "data": {
            "text/plain": [
              "4.0"
            ]
          },
          "metadata": {
            "tags": []
          },
          "execution_count": 144
        }
      ]
    },
    {
      "cell_type": "code",
      "metadata": {
        "id": "x2Yf2O8RpFGF"
      },
      "source": [
        "# Filling null values in 'Resource Allocation' and 'Mental Fatigue Score'\n",
        "df_train['Resource Allocation'].fillna(value=df_train['Resource Allocation'].median(), inplace=True)"
      ],
      "execution_count": 145,
      "outputs": []
    },
    {
      "cell_type": "code",
      "metadata": {
        "colab": {
          "base_uri": "https://localhost:8080/"
        },
        "id": "j8msTyOKp-Bf",
        "outputId": "f0ed5b3f-b621-4991-96c7-2894cf310a19"
      },
      "source": [
        "df_train.isna().sum()"
      ],
      "execution_count": 146,
      "outputs": [
        {
          "output_type": "execute_result",
          "data": {
            "text/plain": [
              "Gender                     0\n",
              "Company Type               0\n",
              "WFH Setup Available        0\n",
              "Designation                0\n",
              "Resource Allocation        0\n",
              "Mental Fatigue Score    2117\n",
              "Burn Rate               1124\n",
              "dtype: int64"
            ]
          },
          "metadata": {
            "tags": []
          },
          "execution_count": 146
        }
      ]
    },
    {
      "cell_type": "code",
      "metadata": {
        "colab": {
          "base_uri": "https://localhost:8080/",
          "height": 296
        },
        "id": "TPUgJ3d2qJRs",
        "outputId": "0ee322d2-cbdd-427d-c805-23ad5bcb32bc"
      },
      "source": [
        "sns.violinplot(x=df_train['Mental Fatigue Score'])"
      ],
      "execution_count": 147,
      "outputs": [
        {
          "output_type": "execute_result",
          "data": {
            "text/plain": [
              "<matplotlib.axes._subplots.AxesSubplot at 0x7fe1c2bb1550>"
            ]
          },
          "metadata": {
            "tags": []
          },
          "execution_count": 147
        },
        {
          "output_type": "display_data",
          "data": {
            "image/png": "[encoded data removed]",
            "text/plain": [
              "<Figure size 432x288 with 1 Axes>"
            ]
          },
          "metadata": {
            "tags": [],
            "needs_background": "light"
          }
        }
      ]
    },
    {
      "cell_type": "code",
      "metadata": {
        "colab": {
          "base_uri": "https://localhost:8080/"
        },
        "id": "HHR474zSr_Ku",
        "outputId": "9d898265-303f-4044-8657-6e0a9d5a638b"
      },
      "source": [
        "df_train.isna().sum()"
      ],
      "execution_count": 148,
      "outputs": [
        {
          "output_type": "execute_result",
          "data": {
            "text/plain": [
              "Gender                     0\n",
              "Company Type               0\n",
              "WFH Setup Available        0\n",
              "Designation                0\n",
              "Resource Allocation        0\n",
              "Mental Fatigue Score    2117\n",
              "Burn Rate               1124\n",
              "dtype: int64"
            ]
          },
          "metadata": {
            "tags": []
          },
          "execution_count": 148
        }
      ]
    },
    {
      "cell_type": "code",
      "metadata": {
        "id": "j4RrPnUGsC-8"
      },
      "source": [
        "# Dropping rows with no burn rate \n",
        "df_train.dropna(inplace=True)"
      ],
      "execution_count": 149,
      "outputs": []
    },
    {
      "cell_type": "code",
      "metadata": {
        "colab": {
          "base_uri": "https://localhost:8080/"
        },
        "id": "3svE-YLDsNX1",
        "outputId": "a77b5b6d-bc8d-45c4-d013-f9b9990d9c14"
      },
      "source": [
        "df_train.shape"
      ],
      "execution_count": 150,
      "outputs": [
        {
          "output_type": "execute_result",
          "data": {
            "text/plain": [
              "(19681, 7)"
            ]
          },
          "metadata": {
            "tags": []
          },
          "execution_count": 150
        }
      ]
    },
    {
      "cell_type": "code",
      "metadata": {
        "id": "1IvPGfXlsOv8"
      },
      "source": [
        "# Label encoding categorical features \n",
        "cat_features = [x for x in df_train.columns if df_train[x].dtype=='object']"
      ],
      "execution_count": 151,
      "outputs": []
    },
    {
      "cell_type": "code",
      "metadata": {
        "colab": {
          "base_uri": "https://localhost:8080/"
        },
        "id": "SbH962a_s9Bl",
        "outputId": "5804011e-d4b1-42ea-fe0a-aa1b3d826f01"
      },
      "source": [
        "cat_features"
      ],
      "execution_count": 152,
      "outputs": [
        {
          "output_type": "execute_result",
          "data": {
            "text/plain": [
              "['Gender', 'Company Type', 'WFH Setup Available']"
            ]
          },
          "metadata": {
            "tags": []
          },
          "execution_count": 152
        }
      ]
    },
    {
      "cell_type": "code",
      "metadata": {
        "id": "kDqPczd2uHr9"
      },
      "source": [
        "from sklearn.preprocessing import LabelEncoder\n",
        "for cat in cat_features:\n",
        "  le = LabelEncoder()\n",
        "  df_train[cat] = le.fit_transform(df_train[cat])"
      ],
      "execution_count": 153,
      "outputs": []
    },
    {
      "cell_type": "code",
      "metadata": {
        "colab": {
          "base_uri": "https://localhost:8080/",
          "height": 204
        },
        "id": "fdoI7zfbw6Ee",
        "outputId": "4428158e-7025-4aad-fb01-09ab8ac5344c"
      },
      "source": [
        "df_train.head()"
      ],
      "execution_count": 154,
      "outputs": [
        {
          "output_type": "execute_result",
          "data": {
            "text/html": [
              "<div>\n",
              "<style scoped>\n",
              "    .dataframe tbody tr th:only-of-type {\n",
              "        vertical-align: middle;\n",
              "    }\n",
              "\n",
              "    .dataframe tbody tr th {\n",
              "        vertical-align: top;\n",
              "    }\n",
              "\n",
              "    .dataframe thead th {\n",
              "        text-align: right;\n",
              "    }\n",
              "</style>\n",
              "<table border=\"1\" class=\"dataframe\">\n",
              "  <thead>\n",
              "    <tr style=\"text-align: right;\">\n",
              "      <th></th>\n",
              "      <th>Gender</th>\n",
              "      <th>Company Type</th>\n",
              "      <th>WFH Setup Available</th>\n",
              "      <th>Designation</th>\n",
              "      <th>Resource Allocation</th>\n",
              "      <th>Mental Fatigue Score</th>\n",
              "      <th>Burn Rate</th>\n",
              "    </tr>\n",
              "  </thead>\n",
              "  <tbody>\n",
              "    <tr>\n",
              "      <th>0</th>\n",
              "      <td>0</td>\n",
              "      <td>1</td>\n",
              "      <td>0</td>\n",
              "      <td>2.0</td>\n",
              "      <td>3.0</td>\n",
              "      <td>3.8</td>\n",
              "      <td>0.16</td>\n",
              "    </tr>\n",
              "    <tr>\n",
              "      <th>1</th>\n",
              "      <td>1</td>\n",
              "      <td>1</td>\n",
              "      <td>1</td>\n",
              "      <td>1.0</td>\n",
              "      <td>2.0</td>\n",
              "      <td>5.0</td>\n",
              "      <td>0.36</td>\n",
              "    </tr>\n",
              "    <tr>\n",
              "      <th>2</th>\n",
              "      <td>0</td>\n",
              "      <td>0</td>\n",
              "      <td>1</td>\n",
              "      <td>2.0</td>\n",
              "      <td>4.0</td>\n",
              "      <td>5.8</td>\n",
              "      <td>0.49</td>\n",
              "    </tr>\n",
              "    <tr>\n",
              "      <th>3</th>\n",
              "      <td>1</td>\n",
              "      <td>1</td>\n",
              "      <td>1</td>\n",
              "      <td>1.0</td>\n",
              "      <td>1.0</td>\n",
              "      <td>2.6</td>\n",
              "      <td>0.20</td>\n",
              "    </tr>\n",
              "    <tr>\n",
              "      <th>4</th>\n",
              "      <td>0</td>\n",
              "      <td>1</td>\n",
              "      <td>0</td>\n",
              "      <td>3.0</td>\n",
              "      <td>7.0</td>\n",
              "      <td>6.9</td>\n",
              "      <td>0.52</td>\n",
              "    </tr>\n",
              "  </tbody>\n",
              "</table>\n",
              "</div>"
            ],
            "text/plain": [
              "   Gender  Company Type  ...  Mental Fatigue Score  Burn Rate\n",
              "0       0             1  ...                   3.8       0.16\n",
              "1       1             1  ...                   5.0       0.36\n",
              "2       0             0  ...                   5.8       0.49\n",
              "3       1             1  ...                   2.6       0.20\n",
              "4       0             1  ...                   6.9       0.52\n",
              "\n",
              "[5 rows x 7 columns]"
            ]
          },
          "metadata": {
            "tags": []
          },
          "execution_count": 154
        }
      ]
    },
    {
      "cell_type": "code",
      "metadata": {
        "id": "LnszVZDjxWvk"
      },
      "source": [
        "# Splitting data into train and test split \n",
        "X = df_train.drop('Burn Rate', axis=1)\n",
        "y = df_train['Burn Rate']\n",
        "\n",
        "from sklearn.model_selection import train_test_split\n",
        "X_train_full, X_test, y_train_full, y_test = train_test_split(X, y, \n",
        "                                                              test_size=0.2,\n",
        "                                                              random_state=42)"
      ],
      "execution_count": 155,
      "outputs": []
    },
    {
      "cell_type": "code",
      "metadata": {
        "colab": {
          "base_uri": "https://localhost:8080/"
        },
        "id": "N-1JDEz9yMni",
        "outputId": "982bef51-d43f-49b8-8b8a-5093a21fedd5"
      },
      "source": [
        "X_train_full.shape, X_test.shape"
      ],
      "execution_count": 156,
      "outputs": [
        {
          "output_type": "execute_result",
          "data": {
            "text/plain": [
              "((15744, 6), (3937, 6))"
            ]
          },
          "metadata": {
            "tags": []
          },
          "execution_count": 156
        }
      ]
    },
    {
      "cell_type": "code",
      "metadata": {
        "id": "YShobpySyb58"
      },
      "source": [
        "# Splitting into validation set \n",
        "X_train, X_valid, y_train, y_valid = train_test_split(X_train_full, y_train_full,\n",
        "                                                      test_size=0.25,\n",
        "                                                      random_state=42)"
      ],
      "execution_count": 157,
      "outputs": []
    },
    {
      "cell_type": "code",
      "metadata": {
        "colab": {
          "base_uri": "https://localhost:8080/"
        },
        "id": "RGGUqmfByuVX",
        "outputId": "1730942c-aec4-4913-824a-53b5c8e58d90"
      },
      "source": [
        "X_train.shape, X_valid.shape"
      ],
      "execution_count": 158,
      "outputs": [
        {
          "output_type": "execute_result",
          "data": {
            "text/plain": [
              "((11808, 6), (3936, 6))"
            ]
          },
          "metadata": {
            "tags": []
          },
          "execution_count": 158
        }
      ]
    },
    {
      "cell_type": "code",
      "metadata": {
        "colab": {
          "base_uri": "https://localhost:8080/"
        },
        "id": "d9zs5c8myx6L",
        "outputId": "ff0f7bdc-6789-46ca-cbe8-49efc1267796"
      },
      "source": [
        "# Using Linear Regression on the dataset \n",
        "from sklearn.linear_model import LinearRegression\n",
        "lr = LinearRegression()\n",
        "lr.fit(X_train.values, y_train.values)\n",
        "lr.score(X_valid, y_valid)"
      ],
      "execution_count": 159,
      "outputs": [
        {
          "output_type": "execute_result",
          "data": {
            "text/plain": [
              "0.9130281661795171"
            ]
          },
          "metadata": {
            "tags": []
          },
          "execution_count": 159
        }
      ]
    },
    {
      "cell_type": "code",
      "metadata": {
        "id": "IfdgijA-2aXh",
        "colab": {
          "base_uri": "https://localhost:8080/"
        },
        "outputId": "e25ec45b-6b22-499d-82e7-129d8f0aae58"
      },
      "source": [
        "# Finding other metrics on the model \n",
        "from sklearn.metrics import mean_absolute_error, mean_squared_error\n",
        "y_pred = lr.predict(X_valid)\n",
        "print(mean_absolute_error(y_valid, y_pred))"
      ],
      "execution_count": 160,
      "outputs": [
        {
          "output_type": "stream",
          "text": [
            "0.047775297276039616\n"
          ],
          "name": "stdout"
        }
      ]
    },
    {
      "cell_type": "code",
      "metadata": {
        "colab": {
          "base_uri": "https://localhost:8080/"
        },
        "id": "m0w26Deu217F",
        "outputId": "718f091f-c44d-4fc1-85ee-89dd9e39bb9f"
      },
      "source": [
        "print(mean_squared_error(y_valid, y_pred))"
      ],
      "execution_count": 161,
      "outputs": [
        {
          "output_type": "stream",
          "text": [
            "0.0033849121235445256\n"
          ],
          "name": "stdout"
        }
      ]
    },
    {
      "cell_type": "code",
      "metadata": {
        "id": "AXdN60g6261u"
      },
      "source": [
        "# Making a function to calculate metrics\n",
        "def metrics(model, X, y_true):\n",
        "  \"\"\"\n",
        "  Function to calculate accuracy, mean squared error and mean absolute error\n",
        "\n",
        "  Parameters\n",
        "  -----------\n",
        "  model - model trained with training data\n",
        "  y_true - true label\n",
        "\n",
        "  Return \n",
        "  -----------\n",
        "  Dictionary storing the metrics \n",
        "  \"\"\"\n",
        "  y_pred = model.predict(X)\n",
        "  mae = mean_absolute_error(y_true, y_pred)\n",
        "  acc = model.score(X, y_true)\n",
        "  mse = mean_squared_error(y_true, y_pred)\n",
        "\n",
        "  return {'Accuracy( in %)': round(acc*100, 4),\n",
        "          'Mean Absolute Error': mae,\n",
        "          'Mean Squared Error': mse}"
      ],
      "execution_count": 162,
      "outputs": []
    },
    {
      "cell_type": "code",
      "metadata": {
        "colab": {
          "base_uri": "https://localhost:8080/"
        },
        "id": "IQqL3H8s5E3L",
        "outputId": "a6905cf3-4d19-4621-ed13-3dbd5ba1111f"
      },
      "source": [
        "metrics(lr, X_valid, y_valid)"
      ],
      "execution_count": 163,
      "outputs": [
        {
          "output_type": "execute_result",
          "data": {
            "text/plain": [
              "{'Accuracy( in %)': 91.3028,\n",
              " 'Mean Absolute Error': 0.047775297276039616,\n",
              " 'Mean Squared Error': 0.0033849121235445256}"
            ]
          },
          "metadata": {
            "tags": []
          },
          "execution_count": 163
        }
      ]
    },
    {
      "cell_type": "code",
      "metadata": {
        "colab": {
          "base_uri": "https://localhost:8080/"
        },
        "id": "wnP1MitY5OGQ",
        "outputId": "3d2aeb34-bf2c-4fe4-ebde-398bcec496ee"
      },
      "source": [
        "# Using lasso regression, which gives more importance to some features\n",
        "from sklearn.linear_model import Lasso \n",
        "las = Lasso()\n",
        "las.fit(X_train, y_train)\n",
        "metrics(las, X_valid, y_valid)"
      ],
      "execution_count": 164,
      "outputs": [
        {
          "output_type": "execute_result",
          "data": {
            "text/plain": [
              "{'Accuracy( in %)': -0.007,\n",
              " 'Mean Absolute Error': 0.15864330645338973,\n",
              " 'Mean Squared Error': 0.03892235212358899}"
            ]
          },
          "metadata": {
            "tags": []
          },
          "execution_count": 164
        }
      ]
    },
    {
      "cell_type": "code",
      "metadata": {
        "colab": {
          "base_uri": "https://localhost:8080/"
        },
        "id": "ku0DMXgz6neX",
        "outputId": "1b55b55b-d8f2-4a54-a2c7-2f831b6132b4"
      },
      "source": [
        "# Using ridge regression \n",
        "from sklearn.linear_model import Ridge\n",
        "rid = Ridge()\n",
        "rid.fit(X_train, y_train)\n",
        "metrics(rid, X_valid, y_valid)"
      ],
      "execution_count": 165,
      "outputs": [
        {
          "output_type": "execute_result",
          "data": {
            "text/plain": [
              "{'Accuracy( in %)': 91.3028,\n",
              " 'Mean Absolute Error': 0.047774964202885774,\n",
              " 'Mean Squared Error': 0.0033849170417458827}"
            ]
          },
          "metadata": {
            "tags": []
          },
          "execution_count": 165
        }
      ]
    },
    {
      "cell_type": "code",
      "metadata": {
        "colab": {
          "base_uri": "https://localhost:8080/"
        },
        "id": "v7qq90KV8xEd",
        "outputId": "000b50c6-3572-4cb8-f825-83b69a4e25ea"
      },
      "source": [
        "# Using random forest, lol \n",
        "from sklearn.ensemble import RandomForestRegressor\n",
        "forest = RandomForestRegressor()\n",
        "forest.fit(X_train, y_train)\n",
        "metrics(forest, X_valid, y_valid)"
      ],
      "execution_count": 166,
      "outputs": [
        {
          "output_type": "execute_result",
          "data": {
            "text/plain": [
              "{'Accuracy( in %)': 90.7839,\n",
              " 'Mean Absolute Error': 0.047412634640248835,\n",
              " 'Mean Squared Error': 0.003586889644693737}"
            ]
          },
          "metadata": {
            "tags": []
          },
          "execution_count": 166
        }
      ]
    },
    {
      "cell_type": "markdown",
      "metadata": {
        "id": "OI7Xvk2J0i_O"
      },
      "source": [
        "#Implementing some more models"
      ]
    },
    {
      "cell_type": "code",
      "metadata": {
        "id": "OQkkVn7U0idQ",
        "colab": {
          "base_uri": "https://localhost:8080/"
        },
        "outputId": "42eaead3-aba4-4327-8f4a-a8c871a56b7b"
      },
      "source": [
        "#KNN Regressor\n",
        "from sklearn.neighbors import KNeighborsRegressor\n",
        "n1 = KNeighborsRegressor(n_neighbors=2)\n",
        "n1.fit(X_train, y_train)\n"
      ],
      "execution_count": 167,
      "outputs": [
        {
          "output_type": "execute_result",
          "data": {
            "text/plain": [
              "KNeighborsRegressor(algorithm='auto', leaf_size=30, metric='minkowski',\n",
              "                    metric_params=None, n_jobs=None, n_neighbors=2, p=2,\n",
              "                    weights='uniform')"
            ]
          },
          "metadata": {
            "tags": []
          },
          "execution_count": 167
        }
      ]
    },
    {
      "cell_type": "code",
      "metadata": {
        "id": "5dqfc74x0hba",
        "colab": {
          "base_uri": "https://localhost:8080/"
        },
        "outputId": "54d22f3d-20a4-49ee-8cac-cb3d4a586a07"
      },
      "source": [
        "metrics(n1, X_valid, y_valid)"
      ],
      "execution_count": 168,
      "outputs": [
        {
          "output_type": "execute_result",
          "data": {
            "text/plain": [
              "{'Accuracy( in %)': 89.1952,\n",
              " 'Mean Absolute Error': 0.050910823170731714,\n",
              " 'Mean Squared Error': 0.004205189278455285}"
            ]
          },
          "metadata": {
            "tags": []
          },
          "execution_count": 168
        }
      ]
    },
    {
      "cell_type": "code",
      "metadata": {
        "id": "VEhnuKWP2Zp_"
      },
      "source": [
        "from sklearn.model_selection import GridSearchCV"
      ],
      "execution_count": 60,
      "outputs": []
    },
    {
      "cell_type": "code",
      "metadata": {
        "id": "oCVNhMiG0heR",
        "colab": {
          "base_uri": "https://localhost:8080/"
        },
        "outputId": "41792d5e-1b4e-47ff-9eea-f1c82dcd40a8"
      },
      "source": [
        "leaf_size = list(range(1,50))\n",
        "n_neighbors = list(range(1,30))\n",
        "p=[1,2]\n",
        "#Convert to dictionary\n",
        "hyperparameters = dict(leaf_size=leaf_size, n_neighbors=n_neighbors, p=p)\n",
        "#Create new KNN object\n",
        "knn_2 =KNeighborsRegressor()\n",
        "#Use GridSearch\n",
        "clf = GridSearchCV(knn_2, hyperparameters, cv=10)\n",
        "#Fit the model\n",
        "best_model = clf.fit(X_train,y_train)\n",
        "#Print The value of best Hyperparameters\n",
        "print('Best leaf_size:', best_model.best_estimator_.get_params()['leaf_size'])\n",
        "print('Best p:', best_model.best_estimator_.get_params()['p'])\n",
        "print('Best n_neighbors:', best_model.best_estimator_.get_params()['n_neighbors'])"
      ],
      "execution_count": 61,
      "outputs": [
        {
          "output_type": "stream",
          "text": [
            "Best leaf_size: 21\n",
            "Best p: 2\n",
            "Best n_neighbors: 29\n"
          ],
          "name": "stdout"
        }
      ]
    },
    {
      "cell_type": "code",
      "metadata": {
        "id": "hclb8j5q7--5",
        "colab": {
          "base_uri": "https://localhost:8080/"
        },
        "outputId": "ed380ff7-c0aa-46f8-b961-723df9e17658"
      },
      "source": [
        "n2 = KNeighborsRegressor(n_neighbors=29,p=2,leaf_size=21)\n",
        "n2.fit(X_train, y_train)\n",
        "metrics(n2, X_valid, y_valid)"
      ],
      "execution_count": 62,
      "outputs": [
        {
          "output_type": "execute_result",
          "data": {
            "text/plain": [
              "{'Accuracy( in %)': 91.9287,\n",
              " 'Mean Absolute Error': 0.04521613050182226,\n",
              " 'Mean Squared Error': 0.003141309374486432}"
            ]
          },
          "metadata": {
            "tags": []
          },
          "execution_count": 62
        }
      ]
    },
    {
      "cell_type": "code",
      "metadata": {
        "id": "ggbrE25b9w9H",
        "colab": {
          "base_uri": "https://localhost:8080/"
        },
        "outputId": "21bae201-856b-4586-fc00-4e832910ea44"
      },
      "source": [
        "# Hyperparameter tuning in RandomForestRegressor() \n",
        "from sklearn.model_selection import RandomizedSearchCV\n",
        "rf = RandomForestRegressor()\n",
        "params_dict = {\n",
        "    'n_estimators' : [100, 150, 175, 200],\n",
        "    'criterion' : ['mae', 'mse'],\n",
        "    'min_samples_split': [2, 3, 4, 5],\n",
        "    'min_samples_leaf' : [1, 2, 3],\n",
        "    'max_features' : ['auto', 'sqrt', 'log2']\n",
        "}\n",
        "clf = RandomizedSearchCV(rf, params_dict, cv = 5)\n",
        "best_model = clf.fit(X_train, y_train)\n",
        "clf.best_params_"
      ],
      "execution_count": 93,
      "outputs": [
        {
          "output_type": "execute_result",
          "data": {
            "text/plain": [
              "{'criterion': 'mse',\n",
              " 'max_features': 'sqrt',\n",
              " 'min_samples_leaf': 3,\n",
              " 'min_samples_split': 4,\n",
              " 'n_estimators': 200}"
            ]
          },
          "metadata": {
            "tags": []
          },
          "execution_count": 93
        }
      ]
    },
    {
      "cell_type": "code",
      "metadata": {
        "colab": {
          "base_uri": "https://localhost:8080/"
        },
        "id": "hbOZDEyiy6Vc",
        "outputId": "3b64bfb4-be3b-4572-a873-07f6f303a55b"
      },
      "source": [
        "metrics(best_model, X_test, y_test)"
      ],
      "execution_count": 75,
      "outputs": [
        {
          "output_type": "execute_result",
          "data": {
            "text/plain": [
              "{'Accuracy( in %)': -449.1967,\n",
              " 'Mean Absolute Error': 0.4230334566108625,\n",
              " 'Mean Squared Error': 0.2148089783965106}"
            ]
          },
          "metadata": {
            "tags": []
          },
          "execution_count": 75
        }
      ]
    },
    {
      "cell_type": "code",
      "metadata": {
        "colab": {
          "base_uri": "https://localhost:8080/"
        },
        "id": "F21mHHd9zBeC",
        "outputId": "9d6b2beb-0514-473a-8d0d-ff0777dfaa65"
      },
      "source": [
        "metrics(best_model, X_valid, y_valid)"
      ],
      "execution_count": 76,
      "outputs": [
        {
          "output_type": "execute_result",
          "data": {
            "text/plain": [
              "{'Accuracy( in %)': 94.0151,\n",
              " 'Mean Absolute Error': 0.03870177797560813,\n",
              " 'Mean Squared Error': 0.002329311069290185}"
            ]
          },
          "metadata": {
            "tags": []
          },
          "execution_count": 76
        }
      ]
    },
    {
      "cell_type": "code",
      "metadata": {
        "colab": {
          "base_uri": "https://localhost:8080/"
        },
        "id": "SUMH-OvIzr1V",
        "outputId": "a80af591-3c23-4a79-bf25-8869af616f2f"
      },
      "source": [
        "final_model = RandomForestRegressor(n_estimators=200, max_features='sqrt',\n",
        "                                    min_samples_leaf=3, min_samples_split=4,\n",
        "                                    criterion='mse')\n",
        "final_model.fit(X_train, y_train)\n",
        "print(metrics(final_model, X_valid, y_valid))"
      ],
      "execution_count": 184,
      "outputs": [
        {
          "output_type": "stream",
          "text": [
            "{'Accuracy( in %)': 91.8266, 'Mean Absolute Error': 0.04556398467920745, 'Mean Squared Error': 0.00318106191979798}\n"
          ],
          "name": "stdout"
        }
      ]
    },
    {
      "cell_type": "code",
      "metadata": {
        "colab": {
          "base_uri": "https://localhost:8080/"
        },
        "id": "fCH7GDz00a07",
        "outputId": "15b7de7a-ee57-4d38-b518-b6e03418bb7f"
      },
      "source": [
        "pred = final_model.predict(samp.reshape(1,-1))\n",
        "print(samp, pred)"
      ],
      "execution_count": 170,
      "outputs": [
        {
          "output_type": "stream",
          "text": [
            "[0.  1.  0.  2.  3.  3.8] [0.24562584]\n"
          ],
          "name": "stdout"
        }
      ]
    },
    {
      "cell_type": "code",
      "metadata": {
        "colab": {
          "base_uri": "https://localhost:8080/"
        },
        "id": "-X8-RkUQ0jum",
        "outputId": "b25fa0fa-bf85-4bbb-ae84-0196f23ab95d"
      },
      "source": [
        "y_test[0]"
      ],
      "execution_count": 171,
      "outputs": [
        {
          "output_type": "execute_result",
          "data": {
            "text/plain": [
              "0.16"
            ]
          },
          "metadata": {
            "tags": []
          },
          "execution_count": 171
        }
      ]
    },
    {
      "cell_type": "code",
      "metadata": {
        "colab": {
          "base_uri": "https://localhost:8080/"
        },
        "id": "YAoFipYB1WWW",
        "outputId": "f81ee534-4a2e-412a-f141-7c47ac02d345"
      },
      "source": [
        "pred = n2.predict(samp.reshape(1, -1))\n",
        "print(samp, pred)"
      ],
      "execution_count": 172,
      "outputs": [
        {
          "output_type": "stream",
          "text": [
            "[0.  1.  0.  2.  3.  3.8] [0.26068966]\n"
          ],
          "name": "stdout"
        }
      ]
    },
    {
      "cell_type": "code",
      "metadata": {
        "id": "GCQgtQDO-LKH"
      },
      "source": [
        "import pickle as pkl \n",
        "pkl.dump(final_model,open('model_file.pkl','wb'))"
      ],
      "execution_count": 186,
      "outputs": []
    },
    {
      "cell_type": "code",
      "metadata": {
        "id": "sJ1VXd-D_htM"
      },
      "source": [
        ""
      ],
      "execution_count": null,
      "outputs": []
    }
  ]
}